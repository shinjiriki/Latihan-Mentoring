{
 "cells": [
  {
   "cell_type": "code",
   "execution_count": 1,
   "id": "caring-brick",
   "metadata": {},
   "outputs": [],
   "source": [
    "import pandas as pd\n",
    "import numpy as np\n",
    "import matplotlib.pyplot as plt\n",
    "import seaborn as sns\n",
    "from jupyterthemes import jtplot\n",
    "jtplot.style(theme = 'monokai', context = 'notebook',ticks=True, grid=False)\n",
    "\n",
    "from sklearn.model_selection import train_test_split, cross_val_score, GridSearchCV, StratifiedKFold\n",
    "import category_encoders as ce\n",
    "from sklearn.preprocessing import OneHotEncoder\n",
    "from sklearn.impute import SimpleImputer\n",
    "from sklearn.pipeline import Pipeline\n",
    "from sklearn.compose import ColumnTransformer\n",
    "from sklearn.metrics import classification_report, plot_roc_curve, plot_precision_recall_curve\n",
    "from sklearn.ensemble import AdaBoostClassifier, GradientBoostingClassifier\n",
    "from xgboost.sklearn import XGBClassifier\n",
    "from sklearn.tree import DecisionTreeClassifier, plot_tree"
   ]
  },
  {
   "cell_type": "code",
   "execution_count": 2,
   "id": "generous-domestic",
   "metadata": {},
   "outputs": [
    {
     "data": {
      "text/html": [
       "<div>\n",
       "<style scoped>\n",
       "    .dataframe tbody tr th:only-of-type {\n",
       "        vertical-align: middle;\n",
       "    }\n",
       "\n",
       "    .dataframe tbody tr th {\n",
       "        vertical-align: top;\n",
       "    }\n",
       "\n",
       "    .dataframe thead th {\n",
       "        text-align: right;\n",
       "    }\n",
       "</style>\n",
       "<table border=\"1\" class=\"dataframe\">\n",
       "  <thead>\n",
       "    <tr style=\"text-align: right;\">\n",
       "      <th></th>\n",
       "      <th>age</th>\n",
       "      <th>workclass</th>\n",
       "      <th>fnlwgt</th>\n",
       "      <th>education</th>\n",
       "      <th>education.num</th>\n",
       "      <th>marital.status</th>\n",
       "      <th>occupation</th>\n",
       "      <th>relationship</th>\n",
       "      <th>race</th>\n",
       "      <th>sex</th>\n",
       "      <th>capital.gain</th>\n",
       "      <th>capital.loss</th>\n",
       "      <th>hours.per.week</th>\n",
       "      <th>native.country</th>\n",
       "      <th>income</th>\n",
       "    </tr>\n",
       "  </thead>\n",
       "  <tbody>\n",
       "    <tr>\n",
       "      <th>0</th>\n",
       "      <td>90</td>\n",
       "      <td>?</td>\n",
       "      <td>77053</td>\n",
       "      <td>HS-grad</td>\n",
       "      <td>9</td>\n",
       "      <td>Widowed</td>\n",
       "      <td>?</td>\n",
       "      <td>Not-in-family</td>\n",
       "      <td>White</td>\n",
       "      <td>Female</td>\n",
       "      <td>0</td>\n",
       "      <td>4356</td>\n",
       "      <td>40</td>\n",
       "      <td>United-States</td>\n",
       "      <td>&lt;=50K</td>\n",
       "    </tr>\n",
       "    <tr>\n",
       "      <th>1</th>\n",
       "      <td>82</td>\n",
       "      <td>Private</td>\n",
       "      <td>132870</td>\n",
       "      <td>HS-grad</td>\n",
       "      <td>9</td>\n",
       "      <td>Widowed</td>\n",
       "      <td>Exec-managerial</td>\n",
       "      <td>Not-in-family</td>\n",
       "      <td>White</td>\n",
       "      <td>Female</td>\n",
       "      <td>0</td>\n",
       "      <td>4356</td>\n",
       "      <td>18</td>\n",
       "      <td>United-States</td>\n",
       "      <td>&lt;=50K</td>\n",
       "    </tr>\n",
       "    <tr>\n",
       "      <th>2</th>\n",
       "      <td>66</td>\n",
       "      <td>?</td>\n",
       "      <td>186061</td>\n",
       "      <td>Some-college</td>\n",
       "      <td>10</td>\n",
       "      <td>Widowed</td>\n",
       "      <td>?</td>\n",
       "      <td>Unmarried</td>\n",
       "      <td>Black</td>\n",
       "      <td>Female</td>\n",
       "      <td>0</td>\n",
       "      <td>4356</td>\n",
       "      <td>40</td>\n",
       "      <td>United-States</td>\n",
       "      <td>&lt;=50K</td>\n",
       "    </tr>\n",
       "    <tr>\n",
       "      <th>3</th>\n",
       "      <td>54</td>\n",
       "      <td>Private</td>\n",
       "      <td>140359</td>\n",
       "      <td>7th-8th</td>\n",
       "      <td>4</td>\n",
       "      <td>Divorced</td>\n",
       "      <td>Machine-op-inspct</td>\n",
       "      <td>Unmarried</td>\n",
       "      <td>White</td>\n",
       "      <td>Female</td>\n",
       "      <td>0</td>\n",
       "      <td>3900</td>\n",
       "      <td>40</td>\n",
       "      <td>United-States</td>\n",
       "      <td>&lt;=50K</td>\n",
       "    </tr>\n",
       "    <tr>\n",
       "      <th>4</th>\n",
       "      <td>41</td>\n",
       "      <td>Private</td>\n",
       "      <td>264663</td>\n",
       "      <td>Some-college</td>\n",
       "      <td>10</td>\n",
       "      <td>Separated</td>\n",
       "      <td>Prof-specialty</td>\n",
       "      <td>Own-child</td>\n",
       "      <td>White</td>\n",
       "      <td>Female</td>\n",
       "      <td>0</td>\n",
       "      <td>3900</td>\n",
       "      <td>40</td>\n",
       "      <td>United-States</td>\n",
       "      <td>&lt;=50K</td>\n",
       "    </tr>\n",
       "  </tbody>\n",
       "</table>\n",
       "</div>"
      ],
      "text/plain": [
       "   age workclass  fnlwgt     education  education.num marital.status  \\\n",
       "0   90         ?   77053       HS-grad              9        Widowed   \n",
       "1   82   Private  132870       HS-grad              9        Widowed   \n",
       "2   66         ?  186061  Some-college             10        Widowed   \n",
       "3   54   Private  140359       7th-8th              4       Divorced   \n",
       "4   41   Private  264663  Some-college             10      Separated   \n",
       "\n",
       "          occupation   relationship   race     sex  capital.gain  \\\n",
       "0                  ?  Not-in-family  White  Female             0   \n",
       "1    Exec-managerial  Not-in-family  White  Female             0   \n",
       "2                  ?      Unmarried  Black  Female             0   \n",
       "3  Machine-op-inspct      Unmarried  White  Female             0   \n",
       "4     Prof-specialty      Own-child  White  Female             0   \n",
       "\n",
       "   capital.loss  hours.per.week native.country income  \n",
       "0          4356              40  United-States  <=50K  \n",
       "1          4356              18  United-States  <=50K  \n",
       "2          4356              40  United-States  <=50K  \n",
       "3          3900              40  United-States  <=50K  \n",
       "4          3900              40  United-States  <=50K  "
      ]
     },
     "execution_count": 2,
     "metadata": {},
     "output_type": "execute_result"
    }
   ],
   "source": [
    "df = pd.read_csv(r'dataset/adult.csv')\n",
    "df.head()"
   ]
  },
  {
   "cell_type": "code",
   "execution_count": 3,
   "id": "statistical-quarterly",
   "metadata": {},
   "outputs": [],
   "source": [
    "binary_encoder_pipeline = Pipeline([\n",
    "                                    ('imputer',SimpleImputer(strategy = 'constant',fill_value = 'NC', missing_values='?')),\n",
    "                                    ('binary encoder',ce.BinaryEncoder())\n",
    "])\n",
    "\n",
    "transformer = ColumnTransformer([\n",
    "                                 ('one hot encoder',OneHotEncoder(drop = 'first'),['relationship','race','sex']),\n",
    "                                 ('binary encoder',binary_encoder_pipeline,['workclass','marital.status','occupation','native.country'])\n",
    "                                ], remainder = 'passthrough')"
   ]
  },
  {
   "cell_type": "code",
   "execution_count": 4,
   "id": "infrared-summary",
   "metadata": {},
   "outputs": [],
   "source": [
    "x = df.drop(columns = ['fnlwgt','income','education'])\n",
    "y = np.where(df['income']=='>50K',1,0)"
   ]
  },
  {
   "cell_type": "code",
   "execution_count": 5,
   "id": "early-richards",
   "metadata": {},
   "outputs": [],
   "source": [
    "x_train, x_test, y_train, y_test = train_test_split(x, y, stratify = y, random_state = 10)"
   ]
  },
  {
   "cell_type": "code",
   "execution_count": 6,
   "id": "convenient-source",
   "metadata": {},
   "outputs": [],
   "source": [
    "tree = DecisionTreeClassifier(max_depth = 3)\n",
    "pipe_tree = Pipeline([\n",
    "    ('transformer', transformer), ('model', tree)\n",
    "])"
   ]
  },
  {
   "cell_type": "code",
   "execution_count": 7,
   "id": "bacterial-juvenile",
   "metadata": {},
   "outputs": [
    {
     "name": "stderr",
     "output_type": "stream",
     "text": [
      "C:\\Users\\Shinjiriki\\Anaconda3\\lib\\site-packages\\category_encoders\\utils.py:21: FutureWarning: is_categorical is deprecated and will be removed in a future version.  Use is_categorical_dtype instead\n",
      "  elif pd.api.types.is_categorical(cols):\n"
     ]
    },
    {
     "data": {
      "text/plain": [
       "Pipeline(steps=[('transformer',\n",
       "                 ColumnTransformer(remainder='passthrough',\n",
       "                                   transformers=[('one hot encoder',\n",
       "                                                  OneHotEncoder(drop='first'),\n",
       "                                                  ['relationship', 'race',\n",
       "                                                   'sex']),\n",
       "                                                 ('binary encoder',\n",
       "                                                  Pipeline(steps=[('imputer',\n",
       "                                                                   SimpleImputer(fill_value='NC',\n",
       "                                                                                 missing_values='?',\n",
       "                                                                                 strategy='constant')),\n",
       "                                                                  ('binary '\n",
       "                                                                   'encoder',\n",
       "                                                                   BinaryEncoder())]),\n",
       "                                                  ['workclass',\n",
       "                                                   'marital.status',\n",
       "                                                   'occupation',\n",
       "                                                   'native.country'])])),\n",
       "                ('model', DecisionTreeClassifier(max_depth=3))])"
      ]
     },
     "execution_count": 7,
     "metadata": {},
     "output_type": "execute_result"
    }
   ],
   "source": [
    "pipe_tree.fit(x_train, y_train)"
   ]
  },
  {
   "cell_type": "code",
   "execution_count": 8,
   "id": "female-tractor",
   "metadata": {},
   "outputs": [],
   "source": [
    "y_pred = pipe_tree.predict(x_test)"
   ]
  },
  {
   "cell_type": "code",
   "execution_count": 9,
   "id": "corrected-marsh",
   "metadata": {},
   "outputs": [
    {
     "name": "stdout",
     "output_type": "stream",
     "text": [
      "              precision    recall  f1-score   support\n",
      "\n",
      "           0       0.86      0.92      0.89      6181\n",
      "           1       0.68      0.53      0.59      1960\n",
      "\n",
      "    accuracy                           0.83      8141\n",
      "   macro avg       0.77      0.72      0.74      8141\n",
      "weighted avg       0.82      0.83      0.82      8141\n",
      "\n"
     ]
    }
   ],
   "source": [
    "print(classification_report(y_test, y_pred))"
   ]
  },
  {
   "cell_type": "code",
   "execution_count": 10,
   "id": "consolidated-rings",
   "metadata": {},
   "outputs": [
    {
     "data": {
      "text/plain": [
       "array(['x0_Not-in-family', 'x0_Other-relative', 'x0_Own-child',\n",
       "       'x0_Unmarried', 'x0_Wife', 'x1_Asian-Pac-Islander', 'x1_Black',\n",
       "       'x1_Other', 'x1_White', 'x2_Male'], dtype=object)"
      ]
     },
     "execution_count": 10,
     "metadata": {},
     "output_type": "execute_result"
    }
   ],
   "source": [
    "pipe_tree[0].transformers_[0][1].get_feature_names()"
   ]
  },
  {
   "cell_type": "code",
   "execution_count": 11,
   "id": "considered-housing",
   "metadata": {},
   "outputs": [
    {
     "data": {
      "text/plain": [
       "['x0_Not-in-family',\n",
       " 'x0_Other-relative',\n",
       " 'x0_Own-child',\n",
       " 'x0_Unmarried',\n",
       " 'x0_Wife',\n",
       " 'x1_Asian-Pac-Islander',\n",
       " 'x1_Black',\n",
       " 'x1_Other',\n",
       " 'x1_White',\n",
       " 'x2_Male',\n",
       " '0_0',\n",
       " '0_1',\n",
       " '0_2',\n",
       " '0_3',\n",
       " '0_4',\n",
       " '1_0',\n",
       " '1_1',\n",
       " '1_2',\n",
       " '1_3',\n",
       " '2_0',\n",
       " '2_1',\n",
       " '2_2',\n",
       " '2_3',\n",
       " '2_4',\n",
       " '3_0',\n",
       " '3_1',\n",
       " '3_2',\n",
       " '3_3',\n",
       " '3_4',\n",
       " '3_5',\n",
       " '3_6',\n",
       " 'age',\n",
       " 'education.num',\n",
       " 'capital.gain',\n",
       " 'capital.loss',\n",
       " 'hours.per.week']"
      ]
     },
     "execution_count": 11,
     "metadata": {},
     "output_type": "execute_result"
    }
   ],
   "source": [
    "features = list(pipe_tree[0].transformers_[0][1].get_feature_names()) + pipe_tree[0].transformers_[1][1][1].get_feature_names() + ['age', 'education.num','capital.gain','capital.loss','hours.per.week']\n",
    "features"
   ]
  },
  {
   "cell_type": "code",
   "execution_count": 12,
   "id": "bearing-rapid",
   "metadata": {},
   "outputs": [
    {
     "data": {
      "text/html": [
       "<div>\n",
       "<style scoped>\n",
       "    .dataframe tbody tr th:only-of-type {\n",
       "        vertical-align: middle;\n",
       "    }\n",
       "\n",
       "    .dataframe tbody tr th {\n",
       "        vertical-align: top;\n",
       "    }\n",
       "\n",
       "    .dataframe thead th {\n",
       "        text-align: right;\n",
       "    }\n",
       "</style>\n",
       "<table border=\"1\" class=\"dataframe\">\n",
       "  <thead>\n",
       "    <tr style=\"text-align: right;\">\n",
       "      <th></th>\n",
       "      <th>imp</th>\n",
       "    </tr>\n",
       "  </thead>\n",
       "  <tbody>\n",
       "    <tr>\n",
       "      <th>x0_Not-in-family</th>\n",
       "      <td>0.000000</td>\n",
       "    </tr>\n",
       "    <tr>\n",
       "      <th>x0_Other-relative</th>\n",
       "      <td>0.000000</td>\n",
       "    </tr>\n",
       "    <tr>\n",
       "      <th>x0_Own-child</th>\n",
       "      <td>0.000000</td>\n",
       "    </tr>\n",
       "    <tr>\n",
       "      <th>x0_Unmarried</th>\n",
       "      <td>0.000000</td>\n",
       "    </tr>\n",
       "    <tr>\n",
       "      <th>x0_Wife</th>\n",
       "      <td>0.000000</td>\n",
       "    </tr>\n",
       "    <tr>\n",
       "      <th>x1_Asian-Pac-Islander</th>\n",
       "      <td>0.000000</td>\n",
       "    </tr>\n",
       "    <tr>\n",
       "      <th>x1_Black</th>\n",
       "      <td>0.000000</td>\n",
       "    </tr>\n",
       "    <tr>\n",
       "      <th>x1_Other</th>\n",
       "      <td>0.000000</td>\n",
       "    </tr>\n",
       "    <tr>\n",
       "      <th>x1_White</th>\n",
       "      <td>0.000000</td>\n",
       "    </tr>\n",
       "    <tr>\n",
       "      <th>x2_Male</th>\n",
       "      <td>0.000000</td>\n",
       "    </tr>\n",
       "    <tr>\n",
       "      <th>0_0</th>\n",
       "      <td>0.000000</td>\n",
       "    </tr>\n",
       "    <tr>\n",
       "      <th>0_1</th>\n",
       "      <td>0.000000</td>\n",
       "    </tr>\n",
       "    <tr>\n",
       "      <th>0_2</th>\n",
       "      <td>0.000000</td>\n",
       "    </tr>\n",
       "    <tr>\n",
       "      <th>0_3</th>\n",
       "      <td>0.000000</td>\n",
       "    </tr>\n",
       "    <tr>\n",
       "      <th>0_4</th>\n",
       "      <td>0.000000</td>\n",
       "    </tr>\n",
       "    <tr>\n",
       "      <th>1_0</th>\n",
       "      <td>0.000000</td>\n",
       "    </tr>\n",
       "    <tr>\n",
       "      <th>1_1</th>\n",
       "      <td>0.000000</td>\n",
       "    </tr>\n",
       "    <tr>\n",
       "      <th>1_2</th>\n",
       "      <td>0.294635</td>\n",
       "    </tr>\n",
       "    <tr>\n",
       "      <th>1_3</th>\n",
       "      <td>0.000000</td>\n",
       "    </tr>\n",
       "    <tr>\n",
       "      <th>2_0</th>\n",
       "      <td>0.000000</td>\n",
       "    </tr>\n",
       "    <tr>\n",
       "      <th>2_1</th>\n",
       "      <td>0.000000</td>\n",
       "    </tr>\n",
       "    <tr>\n",
       "      <th>2_2</th>\n",
       "      <td>0.000000</td>\n",
       "    </tr>\n",
       "    <tr>\n",
       "      <th>2_3</th>\n",
       "      <td>0.000000</td>\n",
       "    </tr>\n",
       "    <tr>\n",
       "      <th>2_4</th>\n",
       "      <td>0.000000</td>\n",
       "    </tr>\n",
       "    <tr>\n",
       "      <th>3_0</th>\n",
       "      <td>0.000000</td>\n",
       "    </tr>\n",
       "    <tr>\n",
       "      <th>3_1</th>\n",
       "      <td>0.000000</td>\n",
       "    </tr>\n",
       "    <tr>\n",
       "      <th>3_2</th>\n",
       "      <td>0.000000</td>\n",
       "    </tr>\n",
       "    <tr>\n",
       "      <th>3_3</th>\n",
       "      <td>0.000000</td>\n",
       "    </tr>\n",
       "    <tr>\n",
       "      <th>3_4</th>\n",
       "      <td>0.000000</td>\n",
       "    </tr>\n",
       "    <tr>\n",
       "      <th>3_5</th>\n",
       "      <td>0.000000</td>\n",
       "    </tr>\n",
       "    <tr>\n",
       "      <th>3_6</th>\n",
       "      <td>0.000000</td>\n",
       "    </tr>\n",
       "    <tr>\n",
       "      <th>age</th>\n",
       "      <td>0.000878</td>\n",
       "    </tr>\n",
       "    <tr>\n",
       "      <th>education.num</th>\n",
       "      <td>0.252002</td>\n",
       "    </tr>\n",
       "    <tr>\n",
       "      <th>capital.gain</th>\n",
       "      <td>0.452485</td>\n",
       "    </tr>\n",
       "    <tr>\n",
       "      <th>capital.loss</th>\n",
       "      <td>0.000000</td>\n",
       "    </tr>\n",
       "    <tr>\n",
       "      <th>hours.per.week</th>\n",
       "      <td>0.000000</td>\n",
       "    </tr>\n",
       "  </tbody>\n",
       "</table>\n",
       "</div>"
      ],
      "text/plain": [
       "                            imp\n",
       "x0_Not-in-family       0.000000\n",
       "x0_Other-relative      0.000000\n",
       "x0_Own-child           0.000000\n",
       "x0_Unmarried           0.000000\n",
       "x0_Wife                0.000000\n",
       "x1_Asian-Pac-Islander  0.000000\n",
       "x1_Black               0.000000\n",
       "x1_Other               0.000000\n",
       "x1_White               0.000000\n",
       "x2_Male                0.000000\n",
       "0_0                    0.000000\n",
       "0_1                    0.000000\n",
       "0_2                    0.000000\n",
       "0_3                    0.000000\n",
       "0_4                    0.000000\n",
       "1_0                    0.000000\n",
       "1_1                    0.000000\n",
       "1_2                    0.294635\n",
       "1_3                    0.000000\n",
       "2_0                    0.000000\n",
       "2_1                    0.000000\n",
       "2_2                    0.000000\n",
       "2_3                    0.000000\n",
       "2_4                    0.000000\n",
       "3_0                    0.000000\n",
       "3_1                    0.000000\n",
       "3_2                    0.000000\n",
       "3_3                    0.000000\n",
       "3_4                    0.000000\n",
       "3_5                    0.000000\n",
       "3_6                    0.000000\n",
       "age                    0.000878\n",
       "education.num          0.252002\n",
       "capital.gain           0.452485\n",
       "capital.loss           0.000000\n",
       "hours.per.week         0.000000"
      ]
     },
     "execution_count": 12,
     "metadata": {},
     "output_type": "execute_result"
    }
   ],
   "source": [
    "importance_table = pd.DataFrame(pipe_tree[1].feature_importances_, columns = ['imp'], index = features)\n",
    "importance_table"
   ]
  },
  {
   "cell_type": "code",
   "execution_count": 13,
   "id": "composite-director",
   "metadata": {},
   "outputs": [
    {
     "data": {
      "text/plain": [
       "<AxesSubplot:>"
      ]
     },
     "execution_count": 13,
     "metadata": {},
     "output_type": "execute_result"
    },
    {
     "data": {
      "image/png": "[encoded data removed]",
      "text/plain": [
       "<Figure size 1080x1080 with 1 Axes>"
      ]
     },
     "metadata": {},
     "output_type": "display_data"
    }
   ],
   "source": [
    "importance_table.sort_values('imp').plot(kind = 'barh', figsize = (15, 15))"
   ]
  },
  {
   "cell_type": "code",
   "execution_count": 14,
   "id": "announced-specification",
   "metadata": {},
   "outputs": [
    {
     "data": {
      "text/plain": [
       "[Text(558.0, 665.91, 'capital.gain <= 5119.0\\ngini = 0.366\\nsamples = 24420\\nvalue = [18539, 5881]\\nclass = <=50K'),\n",
       " Text(279.0, 475.65, '1_2 <= 0.5\\ngini = 0.325\\nsamples = 23225\\nvalue = [18479, 4746]\\nclass = <=50K'),\n",
       " Text(139.5, 285.39, 'education.num <= 12.5\\ngini = 0.433\\nsamples = 13867\\nvalue = [9481, 4386]\\nclass = <=50K'),\n",
       " Text(69.75, 95.13, 'gini = 0.348\\nsamples = 10368\\nvalue = [8040, 2328]\\nclass = <=50K'),\n",
       " Text(209.25, 95.13, 'gini = 0.484\\nsamples = 3499\\nvalue = [1441, 2058]\\nclass = >50K'),\n",
       " Text(418.5, 285.39, 'education.num <= 13.5\\ngini = 0.074\\nsamples = 9358\\nvalue = [8998, 360]\\nclass = <=50K'),\n",
       " Text(348.75, 95.13, 'gini = 0.053\\nsamples = 8904\\nvalue = [8661, 243]\\nclass = <=50K'),\n",
       " Text(488.25, 95.13, 'gini = 0.383\\nsamples = 454\\nvalue = [337, 117]\\nclass = <=50K'),\n",
       " Text(837.0, 475.65, 'capital.gain <= 7073.5\\ngini = 0.095\\nsamples = 1195\\nvalue = [60, 1135]\\nclass = >50K'),\n",
       " Text(697.5, 285.39, 'capital.gain <= 5316.5\\ngini = 0.454\\nsamples = 132\\nvalue = [46, 86]\\nclass = >50K'),\n",
       " Text(627.75, 95.13, 'gini = 0.0\\nsamples = 69\\nvalue = [0, 69]\\nclass = >50K'),\n",
       " Text(767.25, 95.13, 'gini = 0.394\\nsamples = 63\\nvalue = [46, 17]\\nclass = <=50K'),\n",
       " Text(976.5, 285.39, 'age <= 20.5\\ngini = 0.026\\nsamples = 1063\\nvalue = [14, 1049]\\nclass = >50K'),\n",
       " Text(906.75, 95.13, 'gini = 0.444\\nsamples = 3\\nvalue = [2, 1]\\nclass = <=50K'),\n",
       " Text(1046.25, 95.13, 'gini = 0.022\\nsamples = 1060\\nvalue = [12, 1048]\\nclass = >50K')]"
      ]
     },
     "execution_count": 14,
     "metadata": {},
     "output_type": "execute_result"
    },
    {
     "data": {
      "image/png": "[encoded data removed]",
      "text/plain": [
       "<Figure size 1440x1008 with 1 Axes>"
      ]
     },
     "metadata": {},
     "output_type": "display_data"
    }
   ],
   "source": [
    "plt.figure(figsize = (20, 14))\n",
    "plot_tree(pipe_tree[1], feature_names = features, filled = True, class_names=['<=50K','>50K'])"
   ]
  },
  {
   "cell_type": "markdown",
   "id": "copyrighted-coverage",
   "metadata": {},
   "source": [
    "# Ada Boosting"
   ]
  },
  {
   "cell_type": "code",
   "execution_count": 15,
   "id": "closed-edwards",
   "metadata": {},
   "outputs": [],
   "source": [
    "tree = DecisionTreeClassifier(max_depth = 3)\n",
    "model_ada = AdaBoostClassifier(tree, n_estimators = 200, learning_rate = 0.1, random_state = 10)\n",
    "pipe_ada = Pipeline([\n",
    "    ('transformer', transformer), ('model', model_ada)\n",
    "])"
   ]
  },
  {
   "cell_type": "code",
   "execution_count": 16,
   "id": "noted-designer",
   "metadata": {},
   "outputs": [
    {
     "name": "stderr",
     "output_type": "stream",
     "text": [
      "C:\\Users\\Shinjiriki\\Anaconda3\\lib\\site-packages\\category_encoders\\utils.py:21: FutureWarning: is_categorical is deprecated and will be removed in a future version.  Use is_categorical_dtype instead\n",
      "  elif pd.api.types.is_categorical(cols):\n"
     ]
    },
    {
     "name": "stdout",
     "output_type": "stream",
     "text": [
      "              precision    recall  f1-score   support\n",
      "\n",
      "           0       0.89      0.94      0.92      6181\n",
      "           1       0.78      0.63      0.70      1960\n",
      "\n",
      "    accuracy                           0.87      8141\n",
      "   macro avg       0.84      0.79      0.81      8141\n",
      "weighted avg       0.86      0.87      0.86      8141\n",
      "\n"
     ]
    }
   ],
   "source": [
    "pipe_ada.fit(x_train, y_train)\n",
    "y_pred = pipe_ada.predict(x_test)\n",
    "print(classification_report(y_test, y_pred))"
   ]
  },
  {
   "cell_type": "code",
   "execution_count": 17,
   "id": "historic-bride",
   "metadata": {},
   "outputs": [
    {
     "data": {
      "text/html": [
       "<div>\n",
       "<style scoped>\n",
       "    .dataframe tbody tr th:only-of-type {\n",
       "        vertical-align: middle;\n",
       "    }\n",
       "\n",
       "    .dataframe tbody tr th {\n",
       "        vertical-align: top;\n",
       "    }\n",
       "\n",
       "    .dataframe thead th {\n",
       "        text-align: right;\n",
       "    }\n",
       "</style>\n",
       "<table border=\"1\" class=\"dataframe\">\n",
       "  <thead>\n",
       "    <tr style=\"text-align: right;\">\n",
       "      <th></th>\n",
       "      <th>imp</th>\n",
       "    </tr>\n",
       "  </thead>\n",
       "  <tbody>\n",
       "    <tr>\n",
       "      <th>x0_Not-in-family</th>\n",
       "      <td>0.009602</td>\n",
       "    </tr>\n",
       "    <tr>\n",
       "      <th>x0_Other-relative</th>\n",
       "      <td>0.009289</td>\n",
       "    </tr>\n",
       "    <tr>\n",
       "      <th>x0_Own-child</th>\n",
       "      <td>0.014575</td>\n",
       "    </tr>\n",
       "    <tr>\n",
       "      <th>x0_Unmarried</th>\n",
       "      <td>0.010174</td>\n",
       "    </tr>\n",
       "    <tr>\n",
       "      <th>x0_Wife</th>\n",
       "      <td>0.030319</td>\n",
       "    </tr>\n",
       "    <tr>\n",
       "      <th>x1_Asian-Pac-Islander</th>\n",
       "      <td>0.009420</td>\n",
       "    </tr>\n",
       "    <tr>\n",
       "      <th>x1_Black</th>\n",
       "      <td>0.011038</td>\n",
       "    </tr>\n",
       "    <tr>\n",
       "      <th>x1_Other</th>\n",
       "      <td>0.004983</td>\n",
       "    </tr>\n",
       "    <tr>\n",
       "      <th>x1_White</th>\n",
       "      <td>0.006060</td>\n",
       "    </tr>\n",
       "    <tr>\n",
       "      <th>x2_Male</th>\n",
       "      <td>0.025846</td>\n",
       "    </tr>\n",
       "    <tr>\n",
       "      <th>0_0</th>\n",
       "      <td>0.000000</td>\n",
       "    </tr>\n",
       "    <tr>\n",
       "      <th>0_1</th>\n",
       "      <td>0.000869</td>\n",
       "    </tr>\n",
       "    <tr>\n",
       "      <th>0_2</th>\n",
       "      <td>0.015890</td>\n",
       "    </tr>\n",
       "    <tr>\n",
       "      <th>0_3</th>\n",
       "      <td>0.016326</td>\n",
       "    </tr>\n",
       "    <tr>\n",
       "      <th>0_4</th>\n",
       "      <td>0.026408</td>\n",
       "    </tr>\n",
       "    <tr>\n",
       "      <th>1_0</th>\n",
       "      <td>0.000000</td>\n",
       "    </tr>\n",
       "    <tr>\n",
       "      <th>1_1</th>\n",
       "      <td>0.031385</td>\n",
       "    </tr>\n",
       "    <tr>\n",
       "      <th>1_2</th>\n",
       "      <td>0.043978</td>\n",
       "    </tr>\n",
       "    <tr>\n",
       "      <th>1_3</th>\n",
       "      <td>0.018631</td>\n",
       "    </tr>\n",
       "    <tr>\n",
       "      <th>2_0</th>\n",
       "      <td>0.000000</td>\n",
       "    </tr>\n",
       "    <tr>\n",
       "      <th>2_1</th>\n",
       "      <td>0.021197</td>\n",
       "    </tr>\n",
       "    <tr>\n",
       "      <th>2_2</th>\n",
       "      <td>0.031551</td>\n",
       "    </tr>\n",
       "    <tr>\n",
       "      <th>2_3</th>\n",
       "      <td>0.018076</td>\n",
       "    </tr>\n",
       "    <tr>\n",
       "      <th>2_4</th>\n",
       "      <td>0.043515</td>\n",
       "    </tr>\n",
       "    <tr>\n",
       "      <th>3_0</th>\n",
       "      <td>0.000000</td>\n",
       "    </tr>\n",
       "    <tr>\n",
       "      <th>3_1</th>\n",
       "      <td>0.005593</td>\n",
       "    </tr>\n",
       "    <tr>\n",
       "      <th>3_2</th>\n",
       "      <td>0.002410</td>\n",
       "    </tr>\n",
       "    <tr>\n",
       "      <th>3_3</th>\n",
       "      <td>0.000850</td>\n",
       "    </tr>\n",
       "    <tr>\n",
       "      <th>3_4</th>\n",
       "      <td>0.008179</td>\n",
       "    </tr>\n",
       "    <tr>\n",
       "      <th>3_5</th>\n",
       "      <td>0.003990</td>\n",
       "    </tr>\n",
       "    <tr>\n",
       "      <th>3_6</th>\n",
       "      <td>0.001853</td>\n",
       "    </tr>\n",
       "    <tr>\n",
       "      <th>age</th>\n",
       "      <td>0.163261</td>\n",
       "    </tr>\n",
       "    <tr>\n",
       "      <th>education.num</th>\n",
       "      <td>0.107989</td>\n",
       "    </tr>\n",
       "    <tr>\n",
       "      <th>capital.gain</th>\n",
       "      <td>0.104380</td>\n",
       "    </tr>\n",
       "    <tr>\n",
       "      <th>capital.loss</th>\n",
       "      <td>0.070865</td>\n",
       "    </tr>\n",
       "    <tr>\n",
       "      <th>hours.per.week</th>\n",
       "      <td>0.131495</td>\n",
       "    </tr>\n",
       "  </tbody>\n",
       "</table>\n",
       "</div>"
      ],
      "text/plain": [
       "                            imp\n",
       "x0_Not-in-family       0.009602\n",
       "x0_Other-relative      0.009289\n",
       "x0_Own-child           0.014575\n",
       "x0_Unmarried           0.010174\n",
       "x0_Wife                0.030319\n",
       "x1_Asian-Pac-Islander  0.009420\n",
       "x1_Black               0.011038\n",
       "x1_Other               0.004983\n",
       "x1_White               0.006060\n",
       "x2_Male                0.025846\n",
       "0_0                    0.000000\n",
       "0_1                    0.000869\n",
       "0_2                    0.015890\n",
       "0_3                    0.016326\n",
       "0_4                    0.026408\n",
       "1_0                    0.000000\n",
       "1_1                    0.031385\n",
       "1_2                    0.043978\n",
       "1_3                    0.018631\n",
       "2_0                    0.000000\n",
       "2_1                    0.021197\n",
       "2_2                    0.031551\n",
       "2_3                    0.018076\n",
       "2_4                    0.043515\n",
       "3_0                    0.000000\n",
       "3_1                    0.005593\n",
       "3_2                    0.002410\n",
       "3_3                    0.000850\n",
       "3_4                    0.008179\n",
       "3_5                    0.003990\n",
       "3_6                    0.001853\n",
       "age                    0.163261\n",
       "education.num          0.107989\n",
       "capital.gain           0.104380\n",
       "capital.loss           0.070865\n",
       "hours.per.week         0.131495"
      ]
     },
     "execution_count": 17,
     "metadata": {},
     "output_type": "execute_result"
    }
   ],
   "source": [
    "importance_table = pd.DataFrame(pipe_ada[1].feature_importances_, columns = ['imp'], index = features)\n",
    "importance_table"
   ]
  },
  {
   "cell_type": "code",
   "execution_count": 18,
   "id": "reverse-planet",
   "metadata": {},
   "outputs": [
    {
     "data": {
      "text/plain": [
       "<AxesSubplot:>"
      ]
     },
     "execution_count": 18,
     "metadata": {},
     "output_type": "execute_result"
    },
    {
     "data": {
      "image/png": "[encoded data removed]",
      "text/plain": [
       "<Figure size 1080x1080 with 1 Axes>"
      ]
     },
     "metadata": {},
     "output_type": "display_data"
    }
   ],
   "source": [
    "importance_table.sort_values('imp').plot(kind = 'barh', figsize = (15, 15))"
   ]
  },
  {
   "cell_type": "markdown",
   "id": "backed-factor",
   "metadata": {},
   "source": [
    "# Gradient Boosting"
   ]
  },
  {
   "cell_type": "code",
   "execution_count": 19,
   "id": "continuing-session",
   "metadata": {},
   "outputs": [],
   "source": [
    "model_grad = GradientBoostingClassifier(n_estimators = 200, learning_rate = 0.1, max_depth = 3, random_state = 10)\n",
    "pipe_grad = Pipeline([\n",
    "    ('transformer', transformer),\n",
    "    ('model', model_grad)\n",
    "])"
   ]
  },
  {
   "cell_type": "code",
   "execution_count": 20,
   "id": "behind-check",
   "metadata": {},
   "outputs": [
    {
     "name": "stderr",
     "output_type": "stream",
     "text": [
      "C:\\Users\\Shinjiriki\\Anaconda3\\lib\\site-packages\\category_encoders\\utils.py:21: FutureWarning: is_categorical is deprecated and will be removed in a future version.  Use is_categorical_dtype instead\n",
      "  elif pd.api.types.is_categorical(cols):\n"
     ]
    },
    {
     "name": "stdout",
     "output_type": "stream",
     "text": [
      "              precision    recall  f1-score   support\n",
      "\n",
      "           0       0.88      0.95      0.92      6181\n",
      "           1       0.79      0.61      0.69      1960\n",
      "\n",
      "    accuracy                           0.87      8141\n",
      "   macro avg       0.84      0.78      0.80      8141\n",
      "weighted avg       0.86      0.87      0.86      8141\n",
      "\n"
     ]
    }
   ],
   "source": [
    "pipe_grad.fit(x_train, y_train)\n",
    "y_pred = pipe_grad.predict(x_test)\n",
    "print(classification_report(y_test, y_pred))"
   ]
  },
  {
   "cell_type": "code",
   "execution_count": 21,
   "id": "urban-spyware",
   "metadata": {},
   "outputs": [
    {
     "data": {
      "text/html": [
       "<div>\n",
       "<style scoped>\n",
       "    .dataframe tbody tr th:only-of-type {\n",
       "        vertical-align: middle;\n",
       "    }\n",
       "\n",
       "    .dataframe tbody tr th {\n",
       "        vertical-align: top;\n",
       "    }\n",
       "\n",
       "    .dataframe thead th {\n",
       "        text-align: right;\n",
       "    }\n",
       "</style>\n",
       "<table border=\"1\" class=\"dataframe\">\n",
       "  <thead>\n",
       "    <tr style=\"text-align: right;\">\n",
       "      <th></th>\n",
       "      <th>imp</th>\n",
       "    </tr>\n",
       "  </thead>\n",
       "  <tbody>\n",
       "    <tr>\n",
       "      <th>x0_Not-in-family</th>\n",
       "      <td>0.004850</td>\n",
       "    </tr>\n",
       "    <tr>\n",
       "      <th>x0_Other-relative</th>\n",
       "      <td>0.000241</td>\n",
       "    </tr>\n",
       "    <tr>\n",
       "      <th>x0_Own-child</th>\n",
       "      <td>0.001212</td>\n",
       "    </tr>\n",
       "    <tr>\n",
       "      <th>x0_Unmarried</th>\n",
       "      <td>0.001823</td>\n",
       "    </tr>\n",
       "    <tr>\n",
       "      <th>x0_Wife</th>\n",
       "      <td>0.008601</td>\n",
       "    </tr>\n",
       "    <tr>\n",
       "      <th>x1_Asian-Pac-Islander</th>\n",
       "      <td>0.000321</td>\n",
       "    </tr>\n",
       "    <tr>\n",
       "      <th>x1_Black</th>\n",
       "      <td>0.000388</td>\n",
       "    </tr>\n",
       "    <tr>\n",
       "      <th>x1_Other</th>\n",
       "      <td>0.000033</td>\n",
       "    </tr>\n",
       "    <tr>\n",
       "      <th>x1_White</th>\n",
       "      <td>0.000492</td>\n",
       "    </tr>\n",
       "    <tr>\n",
       "      <th>x2_Male</th>\n",
       "      <td>0.009060</td>\n",
       "    </tr>\n",
       "    <tr>\n",
       "      <th>0_0</th>\n",
       "      <td>0.000000</td>\n",
       "    </tr>\n",
       "    <tr>\n",
       "      <th>0_1</th>\n",
       "      <td>0.000000</td>\n",
       "    </tr>\n",
       "    <tr>\n",
       "      <th>0_2</th>\n",
       "      <td>0.002273</td>\n",
       "    </tr>\n",
       "    <tr>\n",
       "      <th>0_3</th>\n",
       "      <td>0.002121</td>\n",
       "    </tr>\n",
       "    <tr>\n",
       "      <th>0_4</th>\n",
       "      <td>0.004507</td>\n",
       "    </tr>\n",
       "    <tr>\n",
       "      <th>1_0</th>\n",
       "      <td>0.000000</td>\n",
       "    </tr>\n",
       "    <tr>\n",
       "      <th>1_1</th>\n",
       "      <td>0.088163</td>\n",
       "    </tr>\n",
       "    <tr>\n",
       "      <th>1_2</th>\n",
       "      <td>0.183462</td>\n",
       "    </tr>\n",
       "    <tr>\n",
       "      <th>1_3</th>\n",
       "      <td>0.018888</td>\n",
       "    </tr>\n",
       "    <tr>\n",
       "      <th>2_0</th>\n",
       "      <td>0.000000</td>\n",
       "    </tr>\n",
       "    <tr>\n",
       "      <th>2_1</th>\n",
       "      <td>0.011582</td>\n",
       "    </tr>\n",
       "    <tr>\n",
       "      <th>2_2</th>\n",
       "      <td>0.001527</td>\n",
       "    </tr>\n",
       "    <tr>\n",
       "      <th>2_3</th>\n",
       "      <td>0.003727</td>\n",
       "    </tr>\n",
       "    <tr>\n",
       "      <th>2_4</th>\n",
       "      <td>0.026614</td>\n",
       "    </tr>\n",
       "    <tr>\n",
       "      <th>3_0</th>\n",
       "      <td>0.000000</td>\n",
       "    </tr>\n",
       "    <tr>\n",
       "      <th>3_1</th>\n",
       "      <td>0.000070</td>\n",
       "    </tr>\n",
       "    <tr>\n",
       "      <th>3_2</th>\n",
       "      <td>0.000034</td>\n",
       "    </tr>\n",
       "    <tr>\n",
       "      <th>3_3</th>\n",
       "      <td>0.000204</td>\n",
       "    </tr>\n",
       "    <tr>\n",
       "      <th>3_4</th>\n",
       "      <td>0.001077</td>\n",
       "    </tr>\n",
       "    <tr>\n",
       "      <th>3_5</th>\n",
       "      <td>0.000541</td>\n",
       "    </tr>\n",
       "    <tr>\n",
       "      <th>3_6</th>\n",
       "      <td>0.000113</td>\n",
       "    </tr>\n",
       "    <tr>\n",
       "      <th>age</th>\n",
       "      <td>0.060009</td>\n",
       "    </tr>\n",
       "    <tr>\n",
       "      <th>education.num</th>\n",
       "      <td>0.180131</td>\n",
       "    </tr>\n",
       "    <tr>\n",
       "      <th>capital.gain</th>\n",
       "      <td>0.281196</td>\n",
       "    </tr>\n",
       "    <tr>\n",
       "      <th>capital.loss</th>\n",
       "      <td>0.061819</td>\n",
       "    </tr>\n",
       "    <tr>\n",
       "      <th>hours.per.week</th>\n",
       "      <td>0.044923</td>\n",
       "    </tr>\n",
       "  </tbody>\n",
       "</table>\n",
       "</div>"
      ],
      "text/plain": [
       "                            imp\n",
       "x0_Not-in-family       0.004850\n",
       "x0_Other-relative      0.000241\n",
       "x0_Own-child           0.001212\n",
       "x0_Unmarried           0.001823\n",
       "x0_Wife                0.008601\n",
       "x1_Asian-Pac-Islander  0.000321\n",
       "x1_Black               0.000388\n",
       "x1_Other               0.000033\n",
       "x1_White               0.000492\n",
       "x2_Male                0.009060\n",
       "0_0                    0.000000\n",
       "0_1                    0.000000\n",
       "0_2                    0.002273\n",
       "0_3                    0.002121\n",
       "0_4                    0.004507\n",
       "1_0                    0.000000\n",
       "1_1                    0.088163\n",
       "1_2                    0.183462\n",
       "1_3                    0.018888\n",
       "2_0                    0.000000\n",
       "2_1                    0.011582\n",
       "2_2                    0.001527\n",
       "2_3                    0.003727\n",
       "2_4                    0.026614\n",
       "3_0                    0.000000\n",
       "3_1                    0.000070\n",
       "3_2                    0.000034\n",
       "3_3                    0.000204\n",
       "3_4                    0.001077\n",
       "3_5                    0.000541\n",
       "3_6                    0.000113\n",
       "age                    0.060009\n",
       "education.num          0.180131\n",
       "capital.gain           0.281196\n",
       "capital.loss           0.061819\n",
       "hours.per.week         0.044923"
      ]
     },
     "execution_count": 21,
     "metadata": {},
     "output_type": "execute_result"
    }
   ],
   "source": [
    "importance_table = pd.DataFrame(pipe_grad[1].feature_importances_, columns = ['imp'], index = features)\n",
    "importance_table"
   ]
  },
  {
   "cell_type": "code",
   "execution_count": 22,
   "id": "familiar-cleaner",
   "metadata": {},
   "outputs": [
    {
     "data": {
      "text/plain": [
       "<AxesSubplot:>"
      ]
     },
     "execution_count": 22,
     "metadata": {},
     "output_type": "execute_result"
    },
    {
     "data": {
      "image/png": "[encoded data removed]",
      "text/plain": [
       "<Figure size 1080x1080 with 1 Axes>"
      ]
     },
     "metadata": {},
     "output_type": "display_data"
    }
   ],
   "source": [
    "importance_table.sort_values('imp').plot(kind = 'barh', figsize = (15, 15))"
   ]
  },
  {
   "cell_type": "markdown",
   "id": "defensive-business",
   "metadata": {},
   "source": [
    "# XGB (Extreme Gradient Boosting) Boosting"
   ]
  },
  {
   "cell_type": "code",
   "execution_count": 23,
   "id": "hollow-oklahoma",
   "metadata": {},
   "outputs": [],
   "source": [
    "model_xgb = XGBClassifier(n_estimators = 200, learning_rate = 0.1, max_depth = 3, random_state = 10, \n",
    "                          disable_default_eval_metric = True)\n",
    "pipe_xgb = Pipeline([\n",
    "    ('transformer', transformer),\n",
    "    ('model', model_xgb)\n",
    "])"
   ]
  },
  {
   "cell_type": "code",
   "execution_count": 24,
   "id": "connected-label",
   "metadata": {},
   "outputs": [
    {
     "name": "stderr",
     "output_type": "stream",
     "text": [
      "C:\\Users\\Shinjiriki\\Anaconda3\\lib\\site-packages\\category_encoders\\utils.py:21: FutureWarning: is_categorical is deprecated and will be removed in a future version.  Use is_categorical_dtype instead\n",
      "  elif pd.api.types.is_categorical(cols):\n",
      "C:\\Users\\Shinjiriki\\Anaconda3\\lib\\site-packages\\xgboost\\sklearn.py:888: UserWarning: The use of label encoder in XGBClassifier is deprecated and will be removed in a future release. To remove this warning, do the following: 1) Pass option use_label_encoder=False when constructing XGBClassifier object; and 2) Encode your labels (y) as integers starting with 0, i.e. 0, 1, 2, ..., [num_class - 1].\n",
      "  warnings.warn(label_encoder_deprecation_msg, UserWarning)\n"
     ]
    },
    {
     "name": "stdout",
     "output_type": "stream",
     "text": [
      "              precision    recall  f1-score   support\n",
      "\n",
      "           0       0.89      0.95      0.92      6181\n",
      "           1       0.79      0.61      0.69      1960\n",
      "\n",
      "    accuracy                           0.87      8141\n",
      "   macro avg       0.84      0.78      0.80      8141\n",
      "weighted avg       0.86      0.87      0.86      8141\n",
      "\n"
     ]
    }
   ],
   "source": [
    "pipe_xgb.fit(x_train, y_train)\n",
    "y_pred = pipe_xgb.predict(x_test)\n",
    "print(classification_report(y_test, y_pred))"
   ]
  },
  {
   "cell_type": "code",
   "execution_count": 25,
   "id": "difficult-utilization",
   "metadata": {},
   "outputs": [
    {
     "data": {
      "text/html": [
       "<div>\n",
       "<style scoped>\n",
       "    .dataframe tbody tr th:only-of-type {\n",
       "        vertical-align: middle;\n",
       "    }\n",
       "\n",
       "    .dataframe tbody tr th {\n",
       "        vertical-align: top;\n",
       "    }\n",
       "\n",
       "    .dataframe thead th {\n",
       "        text-align: right;\n",
       "    }\n",
       "</style>\n",
       "<table border=\"1\" class=\"dataframe\">\n",
       "  <thead>\n",
       "    <tr style=\"text-align: right;\">\n",
       "      <th></th>\n",
       "      <th>imp</th>\n",
       "    </tr>\n",
       "  </thead>\n",
       "  <tbody>\n",
       "    <tr>\n",
       "      <th>x0_Not-in-family</th>\n",
       "      <td>0.019065</td>\n",
       "    </tr>\n",
       "    <tr>\n",
       "      <th>x0_Other-relative</th>\n",
       "      <td>0.005950</td>\n",
       "    </tr>\n",
       "    <tr>\n",
       "      <th>x0_Own-child</th>\n",
       "      <td>0.032394</td>\n",
       "    </tr>\n",
       "    <tr>\n",
       "      <th>x0_Unmarried</th>\n",
       "      <td>0.007194</td>\n",
       "    </tr>\n",
       "    <tr>\n",
       "      <th>x0_Wife</th>\n",
       "      <td>0.013635</td>\n",
       "    </tr>\n",
       "    <tr>\n",
       "      <th>x1_Asian-Pac-Islander</th>\n",
       "      <td>0.003121</td>\n",
       "    </tr>\n",
       "    <tr>\n",
       "      <th>x1_Black</th>\n",
       "      <td>0.003516</td>\n",
       "    </tr>\n",
       "    <tr>\n",
       "      <th>x1_Other</th>\n",
       "      <td>0.002723</td>\n",
       "    </tr>\n",
       "    <tr>\n",
       "      <th>x1_White</th>\n",
       "      <td>0.004893</td>\n",
       "    </tr>\n",
       "    <tr>\n",
       "      <th>x2_Male</th>\n",
       "      <td>0.023829</td>\n",
       "    </tr>\n",
       "    <tr>\n",
       "      <th>0_0</th>\n",
       "      <td>0.000000</td>\n",
       "    </tr>\n",
       "    <tr>\n",
       "      <th>0_1</th>\n",
       "      <td>0.000000</td>\n",
       "    </tr>\n",
       "    <tr>\n",
       "      <th>0_2</th>\n",
       "      <td>0.005784</td>\n",
       "    </tr>\n",
       "    <tr>\n",
       "      <th>0_3</th>\n",
       "      <td>0.016309</td>\n",
       "    </tr>\n",
       "    <tr>\n",
       "      <th>0_4</th>\n",
       "      <td>0.009972</td>\n",
       "    </tr>\n",
       "    <tr>\n",
       "      <th>1_0</th>\n",
       "      <td>0.000000</td>\n",
       "    </tr>\n",
       "    <tr>\n",
       "      <th>1_1</th>\n",
       "      <td>0.147760</td>\n",
       "    </tr>\n",
       "    <tr>\n",
       "      <th>1_2</th>\n",
       "      <td>0.312950</td>\n",
       "    </tr>\n",
       "    <tr>\n",
       "      <th>1_3</th>\n",
       "      <td>0.035756</td>\n",
       "    </tr>\n",
       "    <tr>\n",
       "      <th>2_0</th>\n",
       "      <td>0.000000</td>\n",
       "    </tr>\n",
       "    <tr>\n",
       "      <th>2_1</th>\n",
       "      <td>0.028682</td>\n",
       "    </tr>\n",
       "    <tr>\n",
       "      <th>2_2</th>\n",
       "      <td>0.008627</td>\n",
       "    </tr>\n",
       "    <tr>\n",
       "      <th>2_3</th>\n",
       "      <td>0.013345</td>\n",
       "    </tr>\n",
       "    <tr>\n",
       "      <th>2_4</th>\n",
       "      <td>0.066958</td>\n",
       "    </tr>\n",
       "    <tr>\n",
       "      <th>3_0</th>\n",
       "      <td>0.000000</td>\n",
       "    </tr>\n",
       "    <tr>\n",
       "      <th>3_1</th>\n",
       "      <td>0.001717</td>\n",
       "    </tr>\n",
       "    <tr>\n",
       "      <th>3_2</th>\n",
       "      <td>0.002101</td>\n",
       "    </tr>\n",
       "    <tr>\n",
       "      <th>3_3</th>\n",
       "      <td>0.004015</td>\n",
       "    </tr>\n",
       "    <tr>\n",
       "      <th>3_4</th>\n",
       "      <td>0.008364</td>\n",
       "    </tr>\n",
       "    <tr>\n",
       "      <th>3_5</th>\n",
       "      <td>0.004536</td>\n",
       "    </tr>\n",
       "    <tr>\n",
       "      <th>3_6</th>\n",
       "      <td>0.002867</td>\n",
       "    </tr>\n",
       "    <tr>\n",
       "      <th>age</th>\n",
       "      <td>0.032430</td>\n",
       "    </tr>\n",
       "    <tr>\n",
       "      <th>education.num</th>\n",
       "      <td>0.077019</td>\n",
       "    </tr>\n",
       "    <tr>\n",
       "      <th>capital.gain</th>\n",
       "      <td>0.059506</td>\n",
       "    </tr>\n",
       "    <tr>\n",
       "      <th>capital.loss</th>\n",
       "      <td>0.023791</td>\n",
       "    </tr>\n",
       "    <tr>\n",
       "      <th>hours.per.week</th>\n",
       "      <td>0.021191</td>\n",
       "    </tr>\n",
       "  </tbody>\n",
       "</table>\n",
       "</div>"
      ],
      "text/plain": [
       "                            imp\n",
       "x0_Not-in-family       0.019065\n",
       "x0_Other-relative      0.005950\n",
       "x0_Own-child           0.032394\n",
       "x0_Unmarried           0.007194\n",
       "x0_Wife                0.013635\n",
       "x1_Asian-Pac-Islander  0.003121\n",
       "x1_Black               0.003516\n",
       "x1_Other               0.002723\n",
       "x1_White               0.004893\n",
       "x2_Male                0.023829\n",
       "0_0                    0.000000\n",
       "0_1                    0.000000\n",
       "0_2                    0.005784\n",
       "0_3                    0.016309\n",
       "0_4                    0.009972\n",
       "1_0                    0.000000\n",
       "1_1                    0.147760\n",
       "1_2                    0.312950\n",
       "1_3                    0.035756\n",
       "2_0                    0.000000\n",
       "2_1                    0.028682\n",
       "2_2                    0.008627\n",
       "2_3                    0.013345\n",
       "2_4                    0.066958\n",
       "3_0                    0.000000\n",
       "3_1                    0.001717\n",
       "3_2                    0.002101\n",
       "3_3                    0.004015\n",
       "3_4                    0.008364\n",
       "3_5                    0.004536\n",
       "3_6                    0.002867\n",
       "age                    0.032430\n",
       "education.num          0.077019\n",
       "capital.gain           0.059506\n",
       "capital.loss           0.023791\n",
       "hours.per.week         0.021191"
      ]
     },
     "execution_count": 25,
     "metadata": {},
     "output_type": "execute_result"
    }
   ],
   "source": [
    "importance_table = pd.DataFrame(pipe_xgb[1].feature_importances_, columns = ['imp'], index = features)\n",
    "importance_table"
   ]
  },
  {
   "cell_type": "code",
   "execution_count": 26,
   "id": "daily-pursuit",
   "metadata": {},
   "outputs": [
    {
     "data": {
      "text/plain": [
       "<AxesSubplot:>"
      ]
     },
     "execution_count": 26,
     "metadata": {},
     "output_type": "execute_result"
    },
    {
     "data": {
      "image/png": "[encoded data removed]",
      "text/plain": [
       "<Figure size 1080x1080 with 1 Axes>"
      ]
     },
     "metadata": {},
     "output_type": "display_data"
    }
   ],
   "source": [
    "importance_table.sort_values('imp').plot(kind = 'barh', figsize = (15, 15))"
   ]
  },
  {
   "cell_type": "markdown",
   "id": "pursuant-banner",
   "metadata": {},
   "source": [
    "# Tugas\n",
    "Tugas: \n",
    "\n",
    "Pilihlah model terbaik dari 4 model di berikut sebagai benchmark model:\n",
    "\n",
    "    * Decision Tree\n",
    "    * Adaboost\n",
    "    * gradient boost\n",
    "    * XGboost  \n",
    "\n",
    "Lakukan hyperparameter tunning dengan hyperparameter berikut:\n",
    "\n",
    "    hyperparam_space = [  \n",
    "                    {'clf__learning_rate':[0.1],'clf__n_estimators':[200],'clf__base_estimator__max_depth':[3,4,5]},  \n",
    "                    {'clf__learning_rate':[0.05],'clf__n_estimators':[400],'clf__base_estimator__max_depth':[3,4,5]},  \n",
    "                    {'clf__learning_rate':[0.01],'clf__n_estimators':[2000],'clf__base_estimator__max_depth':[3,4,5]},  \n",
    "                    {'clf__learning_rate':[0.005],'clf__n_estimators':[4000],'clf__base_estimator__max_depth':[3,4,5]}]  \n",
    "\n",
    "Gunakan f1 score sebagai metric evaluasi\n",
    "\n",
    "Kalian bisa upload tugas yg sudak kalian buat ke github kalian dan email link github kalian ke: Brigita.gems@gmail.com untuk feedback.\n"
   ]
  },
  {
   "cell_type": "code",
   "execution_count": 27,
   "id": "egyptian-knowing",
   "metadata": {},
   "outputs": [],
   "source": [
    "def model_evaluation_cv(model):\n",
    "    skfold = StratifiedKFold(n_splits = 5)\n",
    "    estimator = Pipeline([\n",
    "    ('preprocess', transformer),\n",
    "    ('model', model)\n",
    "])\n",
    "    model_cv = cross_val_score(estimator, x_train, y_train, scoring = 'f1', cv = skfold)\n",
    "    return model_cv"
   ]
  },
  {
   "cell_type": "code",
   "execution_count": 28,
   "id": "olive-negative",
   "metadata": {},
   "outputs": [],
   "source": [
    "def print_result(model_cv):\n",
    "    print('score : ', model_cv)\n",
    "    print('mean score : ', model_cv.mean())\n",
    "    print('std score : ', model_cv.std())"
   ]
  },
  {
   "cell_type": "code",
   "execution_count": 29,
   "id": "amber-defendant",
   "metadata": {},
   "outputs": [],
   "source": [
    "import warnings\n",
    "warnings.filterwarnings('ignore')"
   ]
  },
  {
   "cell_type": "code",
   "execution_count": 30,
   "id": "saved-anaheim",
   "metadata": {},
   "outputs": [
    {
     "data": {
      "text/html": [
       "<div>\n",
       "<style scoped>\n",
       "    .dataframe tbody tr th:only-of-type {\n",
       "        vertical-align: middle;\n",
       "    }\n",
       "\n",
       "    .dataframe tbody tr th {\n",
       "        vertical-align: top;\n",
       "    }\n",
       "\n",
       "    .dataframe thead th {\n",
       "        text-align: right;\n",
       "    }\n",
       "</style>\n",
       "<table border=\"1\" class=\"dataframe\">\n",
       "  <thead>\n",
       "    <tr style=\"text-align: right;\">\n",
       "      <th></th>\n",
       "      <th>Name</th>\n",
       "      <th>STD</th>\n",
       "      <th>Mean</th>\n",
       "    </tr>\n",
       "  </thead>\n",
       "  <tbody>\n",
       "    <tr>\n",
       "      <th>0</th>\n",
       "      <td>tree</td>\n",
       "      <td>0.007411</td>\n",
       "      <td>0.605702</td>\n",
       "    </tr>\n",
       "    <tr>\n",
       "      <th>1</th>\n",
       "      <td>model_ada</td>\n",
       "      <td>0.013265</td>\n",
       "      <td>0.705721</td>\n",
       "    </tr>\n",
       "    <tr>\n",
       "      <th>2</th>\n",
       "      <td>model_grad</td>\n",
       "      <td>0.013179</td>\n",
       "      <td>0.698576</td>\n",
       "    </tr>\n",
       "    <tr>\n",
       "      <th>3</th>\n",
       "      <td>model_xgb</td>\n",
       "      <td>0.013476</td>\n",
       "      <td>0.698875</td>\n",
       "    </tr>\n",
       "  </tbody>\n",
       "</table>\n",
       "</div>"
      ],
      "text/plain": [
       "         Name       STD      Mean\n",
       "0        tree  0.007411  0.605702\n",
       "1   model_ada  0.013265  0.705721\n",
       "2  model_grad  0.013179  0.698576\n",
       "3   model_xgb  0.013476  0.698875"
      ]
     },
     "execution_count": 30,
     "metadata": {},
     "output_type": "execute_result"
    }
   ],
   "source": [
    "model = [tree, model_ada, model_grad, model_xgb]\n",
    "model_name = ['tree', 'model_ada', 'model_grad', 'model_xgb']\n",
    "model_std = []\n",
    "model_mean = []\n",
    "for i in model:\n",
    "    model_cv = model_evaluation_cv(i)\n",
    "    model_std.append(model_cv.std())\n",
    "    model_mean.append(model_cv.mean())\n",
    "\n",
    "overview = pd.DataFrame({'Name' : model_name, 'STD' : model_std, 'Mean' : model_mean})\n",
    "overview"
   ]
  },
  {
   "cell_type": "markdown",
   "id": "executive-abraham",
   "metadata": {},
   "source": [
    "# Information :\n",
    "    \n",
    "    Dari model, yang terbaik adalah model yang diboosting dengan Ada tetapi stdnya cukup tinggi, \n",
    "    dan model yang paling balance(std) adalah Decision Tree sendiri tapi mean yang bisa dikatakan \n",
    "    paling rendah. \n",
    "    Sehingga yang menurut saya yang paling balance untuk mean dan std adalah boosting yang \n",
    "    dilakukan oleh gradient"
   ]
  },
  {
   "cell_type": "markdown",
   "id": "polyphonic-plenty",
   "metadata": {},
   "source": [
    "# Hyperparameter Tuning\n",
    "\n",
    "    akan diapply kesemuanya"
   ]
  },
  {
   "cell_type": "code",
   "execution_count": 46,
   "id": "parallel-development",
   "metadata": {},
   "outputs": [],
   "source": [
    "hyperparam_space ={\n",
    "    'model__learning_rate':[0.1, 0.05, 0.01, 0.005],\n",
    "    'model__n_estimators':[50, 100, 150, 200],\n",
    "    'model__base_estimator__max_depth':[3,4,5]\n",
    "}"
   ]
  },
  {
   "cell_type": "markdown",
   "id": "complex-validity",
   "metadata": {},
   "source": [
    "# ADA"
   ]
  },
  {
   "cell_type": "code",
   "execution_count": 32,
   "id": "loving-tender",
   "metadata": {},
   "outputs": [],
   "source": [
    "model = AdaBoostClassifier(tree, n_estimators = 200, learning_rate = 0.1, random_state = 10)\n",
    "estimator = Pipeline([\n",
    "    ('transformer', transformer), ('model', model)\n",
    "])"
   ]
  },
  {
   "cell_type": "code",
   "execution_count": 33,
   "id": "macro-sheep",
   "metadata": {},
   "outputs": [],
   "source": [
    "skfold = StratifiedKFold(n_splits = 5)\n",
    "grid_search = GridSearchCV(estimator, param_grid = hyperparam_space, cv = skfold, scoring = 'f1', n_jobs = -1)"
   ]
  },
  {
   "cell_type": "code",
   "execution_count": 34,
   "id": "satellite-wilson",
   "metadata": {},
   "outputs": [
    {
     "data": {
      "text/plain": [
       "GridSearchCV(cv=StratifiedKFold(n_splits=5, random_state=None, shuffle=False),\n",
       "             estimator=Pipeline(steps=[('transformer',\n",
       "                                        ColumnTransformer(remainder='passthrough',\n",
       "                                                          transformers=[('one '\n",
       "                                                                         'hot '\n",
       "                                                                         'encoder',\n",
       "                                                                         OneHotEncoder(drop='first'),\n",
       "                                                                         ['relationship',\n",
       "                                                                          'race',\n",
       "                                                                          'sex']),\n",
       "                                                                        ('binary '\n",
       "                                                                         'encoder',\n",
       "                                                                         Pipeline(steps=[('imputer',\n",
       "                                                                                          SimpleImputer(fill_value='NC',\n",
       "                                                                                                        missing_values='?',\n",
       "                                                                                                        st...\n",
       "                                                                         ['workclass',\n",
       "                                                                          'marital.status',\n",
       "                                                                          'occupation',\n",
       "                                                                          'native.country'])])),\n",
       "                                       ('model',\n",
       "                                        AdaBoostClassifier(base_estimator=DecisionTreeClassifier(max_depth=3),\n",
       "                                                           learning_rate=0.1,\n",
       "                                                           n_estimators=200,\n",
       "                                                           random_state=10))]),\n",
       "             n_jobs=-1,\n",
       "             param_grid={'model__base_estimator__max_depth': [3, 4, 5],\n",
       "                         'model__learning_rate': [0.1, 0.05, 0.01, 0.005],\n",
       "                         'model__n_estimators': [50, 100, 150, 200]},\n",
       "             scoring='f1')"
      ]
     },
     "execution_count": 34,
     "metadata": {},
     "output_type": "execute_result"
    }
   ],
   "source": [
    "grid_search.fit(x_train, y_train)"
   ]
  },
  {
   "cell_type": "code",
   "execution_count": 35,
   "id": "swiss-dancing",
   "metadata": {},
   "outputs": [
    {
     "name": "stdout",
     "output_type": "stream",
     "text": [
      "best score  0.7073055622952331\n",
      "best score  {'model__base_estimator__max_depth': 4, 'model__learning_rate': 0.1, 'model__n_estimators': 200}\n"
     ]
    }
   ],
   "source": [
    "print('best score ', grid_search.best_score_)\n",
    "print('best score ', grid_search.best_params_)"
   ]
  },
  {
   "cell_type": "markdown",
   "id": "dutch-departure",
   "metadata": {},
   "source": [
    "# Gradient"
   ]
  },
  {
   "cell_type": "code",
   "execution_count": null,
   "id": "endangered-admission",
   "metadata": {},
   "outputs": [],
   "source": [
    "hyperparam_space ={\n",
    "    'model__learning_rate':[0.1, 0.05, 0.01, 0.005],\n",
    "    'model__n_estimators':[50, 100, 150, 200],\n",
    "    'model__max_depth':[3,4,5]\n",
    "}"
   ]
  },
  {
   "cell_type": "code",
   "execution_count": 47,
   "id": "conventional-professor",
   "metadata": {},
   "outputs": [],
   "source": [
    "model = GradientBoostingClassifier(random_state = 10)\n",
    "estimator = Pipeline([\n",
    "    ('transformer', transformer), ('model', model)\n",
    "])"
   ]
  },
  {
   "cell_type": "code",
   "execution_count": 48,
   "id": "deluxe-pendant",
   "metadata": {},
   "outputs": [],
   "source": [
    "skfold = StratifiedKFold(n_splits = 5)\n",
    "grid_search = GridSearchCV(estimator, param_grid = hyperparam_space, cv = skfold, scoring = 'f1', n_jobs = -1)"
   ]
  },
  {
   "cell_type": "code",
   "execution_count": 49,
   "id": "armed-adelaide",
   "metadata": {
    "scrolled": true
   },
   "outputs": [
    {
     "data": {
      "text/plain": [
       "GridSearchCV(cv=StratifiedKFold(n_splits=5, random_state=None, shuffle=False),\n",
       "             estimator=Pipeline(steps=[('transformer',\n",
       "                                        ColumnTransformer(remainder='passthrough',\n",
       "                                                          transformers=[('one '\n",
       "                                                                         'hot '\n",
       "                                                                         'encoder',\n",
       "                                                                         OneHotEncoder(drop='first'),\n",
       "                                                                         ['relationship',\n",
       "                                                                          'race',\n",
       "                                                                          'sex']),\n",
       "                                                                        ('binary '\n",
       "                                                                         'encoder',\n",
       "                                                                         Pipeline(steps=[('imputer',\n",
       "                                                                                          SimpleImputer(fill_value='NC',\n",
       "                                                                                                        missing_values='?',\n",
       "                                                                                                        strategy='constant')),\n",
       "                                                                                         ('binary '\n",
       "                                                                                          'encoder',\n",
       "                                                                                          BinaryEncoder())]),\n",
       "                                                                         ['workclass',\n",
       "                                                                          'marital.status',\n",
       "                                                                          'occupation',\n",
       "                                                                          'native.country'])])),\n",
       "                                       ('model',\n",
       "                                        GradientBoostingClassifier(random_state=10))]),\n",
       "             n_jobs=-1,\n",
       "             param_grid={'model__learning_rate': [0.1, 0.05, 0.01, 0.005],\n",
       "                         'model__max_depth': [3, 4, 5],\n",
       "                         'model__n_estimators': [50, 100, 150, 200]},\n",
       "             scoring='f1')"
      ]
     },
     "execution_count": 49,
     "metadata": {},
     "output_type": "execute_result"
    }
   ],
   "source": [
    "grid_search.fit(x_train, y_train)"
   ]
  },
  {
   "cell_type": "code",
   "execution_count": 50,
   "id": "preliminary-jamaica",
   "metadata": {},
   "outputs": [
    {
     "name": "stdout",
     "output_type": "stream",
     "text": [
      "best score  0.7136044802970757\n",
      "best score  {'model__learning_rate': 0.1, 'model__max_depth': 5, 'model__n_estimators': 200}\n"
     ]
    }
   ],
   "source": [
    "print('best score ', grid_search.best_score_)\n",
    "print('best score ', grid_search.best_params_)"
   ]
  },
  {
   "cell_type": "markdown",
   "id": "beneficial-dinner",
   "metadata": {},
   "source": [
    "# XGB"
   ]
  },
  {
   "cell_type": "code",
   "execution_count": 51,
   "id": "obvious-bangkok",
   "metadata": {},
   "outputs": [],
   "source": [
    "model = XGBClassifier(n_estimators = 200, learning_rate = 0.1, max_depth = 3, random_state = 10, \n",
    "                      disable_default_eval_metric = True)\n",
    "estimator = Pipeline([\n",
    "    ('transformer', transformer), ('model', model)\n",
    "])"
   ]
  },
  {
   "cell_type": "code",
   "execution_count": 52,
   "id": "whole-hollywood",
   "metadata": {},
   "outputs": [],
   "source": [
    "skfold = StratifiedKFold(n_splits = 5)\n",
    "grid_search = GridSearchCV(estimator, param_grid = hyperparam_space, cv = skfold, scoring = 'f1')"
   ]
  },
  {
   "cell_type": "code",
   "execution_count": 53,
   "id": "steady-rough",
   "metadata": {
    "scrolled": true
   },
   "outputs": [
    {
     "data": {
      "text/plain": [
       "GridSearchCV(cv=StratifiedKFold(n_splits=5, random_state=None, shuffle=False),\n",
       "             estimator=Pipeline(steps=[('transformer',\n",
       "                                        ColumnTransformer(remainder='passthrough',\n",
       "                                                          transformers=[('one '\n",
       "                                                                         'hot '\n",
       "                                                                         'encoder',\n",
       "                                                                         OneHotEncoder(drop='first'),\n",
       "                                                                         ['relationship',\n",
       "                                                                          'race',\n",
       "                                                                          'sex']),\n",
       "                                                                        ('binary '\n",
       "                                                                         'encoder',\n",
       "                                                                         Pipeline(steps=[('imputer',\n",
       "                                                                                          SimpleImputer(fill_value='NC',\n",
       "                                                                                                        missing_values='?',\n",
       "                                                                                                        st...\n",
       "                                                      monotone_constraints=None,\n",
       "                                                      n_estimators=200,\n",
       "                                                      n_jobs=None,\n",
       "                                                      num_parallel_tree=None,\n",
       "                                                      random_state=10,\n",
       "                                                      reg_alpha=None,\n",
       "                                                      reg_lambda=None,\n",
       "                                                      scale_pos_weight=None,\n",
       "                                                      subsample=None,\n",
       "                                                      tree_method=None,\n",
       "                                                      validate_parameters=None,\n",
       "                                                      verbosity=None))]),\n",
       "             param_grid={'model__learning_rate': [0.1, 0.05, 0.01, 0.005],\n",
       "                         'model__max_depth': [3, 4, 5],\n",
       "                         'model__n_estimators': [50, 100, 150, 200]},\n",
       "             scoring='f1')"
      ]
     },
     "execution_count": 53,
     "metadata": {},
     "output_type": "execute_result"
    }
   ],
   "source": [
    "grid_search.fit(x_train, y_train)"
   ]
  },
  {
   "cell_type": "code",
   "execution_count": 54,
   "id": "christian-notebook",
   "metadata": {},
   "outputs": [
    {
     "name": "stdout",
     "output_type": "stream",
     "text": [
      "best score  0.7085725465302429\n",
      "best score  {'model__learning_rate': 0.1, 'model__max_depth': 5, 'model__n_estimators': 200}\n"
     ]
    }
   ],
   "source": [
    "print('best score ', grid_search.best_score_)\n",
    "print('best score ', grid_search.best_params_)"
   ]
  },
  {
   "cell_type": "markdown",
   "id": "affiliated-modeling",
   "metadata": {},
   "source": [
    "# Short Conclusion, each boosting increased in performance after hypertuning"
   ]
  }
 ],
 "metadata": {
  "kernelspec": {
   "display_name": "Python 3",
   "language": "python",
   "name": "python3"
  },
  "language_info": {
   "codemirror_mode": {
    "name": "ipython",
    "version": 3
   },
   "file_extension": ".py",
   "mimetype": "text/x-python",
   "name": "python",
   "nbconvert_exporter": "python",
   "pygments_lexer": "ipython3",
   "version": "3.7.9"
  }
 },
 "nbformat": 4,
 "nbformat_minor": 5
}
