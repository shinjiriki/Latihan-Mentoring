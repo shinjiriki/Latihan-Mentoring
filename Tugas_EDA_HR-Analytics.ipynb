{
 "cells": [
  {
   "cell_type": "code",
   "execution_count": 26,
   "id": "governing-breathing",
   "metadata": {},
   "outputs": [],
   "source": [
    "import pandas as pd\n",
    "import matplotlib.pyplot as plt\n",
    "import seaborn as sns\n",
    "import numpy as np\n",
    "from jupyterthemes import jtplot\n",
    "jtplot.style(theme = 'monokai', context = 'notebook',ticks=True, grid=False)\n",
    "import warnings\n",
    "warnings.filterwarnings('ignore')"
   ]
  },
  {
   "cell_type": "code",
   "execution_count": 27,
   "id": "endangered-wichita",
   "metadata": {},
   "outputs": [
    {
     "data": {
      "text/html": [
       "<div>\n",
       "<style scoped>\n",
       "    .dataframe tbody tr th:only-of-type {\n",
       "        vertical-align: middle;\n",
       "    }\n",
       "\n",
       "    .dataframe tbody tr th {\n",
       "        vertical-align: top;\n",
       "    }\n",
       "\n",
       "    .dataframe thead th {\n",
       "        text-align: right;\n",
       "    }\n",
       "</style>\n",
       "<table border=\"1\" class=\"dataframe\">\n",
       "  <thead>\n",
       "    <tr style=\"text-align: right;\">\n",
       "      <th></th>\n",
       "      <th>enrollee_id</th>\n",
       "      <th>city</th>\n",
       "      <th>city_development_index</th>\n",
       "      <th>gender</th>\n",
       "      <th>relevent_experience</th>\n",
       "      <th>enrolled_university</th>\n",
       "      <th>education_level</th>\n",
       "      <th>major_discipline</th>\n",
       "      <th>experience</th>\n",
       "      <th>company_size</th>\n",
       "      <th>company_type</th>\n",
       "      <th>last_new_job</th>\n",
       "      <th>training_hours</th>\n",
       "      <th>target</th>\n",
       "    </tr>\n",
       "  </thead>\n",
       "  <tbody>\n",
       "    <tr>\n",
       "      <th>0</th>\n",
       "      <td>8949</td>\n",
       "      <td>city_103</td>\n",
       "      <td>0.920</td>\n",
       "      <td>Male</td>\n",
       "      <td>Has relevent experience</td>\n",
       "      <td>no_enrollment</td>\n",
       "      <td>Graduate</td>\n",
       "      <td>STEM</td>\n",
       "      <td>&gt;20</td>\n",
       "      <td>NaN</td>\n",
       "      <td>NaN</td>\n",
       "      <td>1</td>\n",
       "      <td>36</td>\n",
       "      <td>1.0</td>\n",
       "    </tr>\n",
       "    <tr>\n",
       "      <th>1</th>\n",
       "      <td>29725</td>\n",
       "      <td>city_40</td>\n",
       "      <td>0.776</td>\n",
       "      <td>Male</td>\n",
       "      <td>No relevent experience</td>\n",
       "      <td>no_enrollment</td>\n",
       "      <td>Graduate</td>\n",
       "      <td>STEM</td>\n",
       "      <td>15</td>\n",
       "      <td>50-99</td>\n",
       "      <td>Pvt Ltd</td>\n",
       "      <td>&gt;4</td>\n",
       "      <td>47</td>\n",
       "      <td>0.0</td>\n",
       "    </tr>\n",
       "    <tr>\n",
       "      <th>2</th>\n",
       "      <td>11561</td>\n",
       "      <td>city_21</td>\n",
       "      <td>0.624</td>\n",
       "      <td>NaN</td>\n",
       "      <td>No relevent experience</td>\n",
       "      <td>Full time course</td>\n",
       "      <td>Graduate</td>\n",
       "      <td>STEM</td>\n",
       "      <td>5</td>\n",
       "      <td>NaN</td>\n",
       "      <td>NaN</td>\n",
       "      <td>never</td>\n",
       "      <td>83</td>\n",
       "      <td>0.0</td>\n",
       "    </tr>\n",
       "    <tr>\n",
       "      <th>3</th>\n",
       "      <td>33241</td>\n",
       "      <td>city_115</td>\n",
       "      <td>0.789</td>\n",
       "      <td>NaN</td>\n",
       "      <td>No relevent experience</td>\n",
       "      <td>NaN</td>\n",
       "      <td>Graduate</td>\n",
       "      <td>Business Degree</td>\n",
       "      <td>&lt;1</td>\n",
       "      <td>NaN</td>\n",
       "      <td>Pvt Ltd</td>\n",
       "      <td>never</td>\n",
       "      <td>52</td>\n",
       "      <td>1.0</td>\n",
       "    </tr>\n",
       "    <tr>\n",
       "      <th>4</th>\n",
       "      <td>666</td>\n",
       "      <td>city_162</td>\n",
       "      <td>0.767</td>\n",
       "      <td>Male</td>\n",
       "      <td>Has relevent experience</td>\n",
       "      <td>no_enrollment</td>\n",
       "      <td>Masters</td>\n",
       "      <td>STEM</td>\n",
       "      <td>&gt;20</td>\n",
       "      <td>50-99</td>\n",
       "      <td>Funded Startup</td>\n",
       "      <td>4</td>\n",
       "      <td>8</td>\n",
       "      <td>0.0</td>\n",
       "    </tr>\n",
       "    <tr>\n",
       "      <th>...</th>\n",
       "      <td>...</td>\n",
       "      <td>...</td>\n",
       "      <td>...</td>\n",
       "      <td>...</td>\n",
       "      <td>...</td>\n",
       "      <td>...</td>\n",
       "      <td>...</td>\n",
       "      <td>...</td>\n",
       "      <td>...</td>\n",
       "      <td>...</td>\n",
       "      <td>...</td>\n",
       "      <td>...</td>\n",
       "      <td>...</td>\n",
       "      <td>...</td>\n",
       "    </tr>\n",
       "    <tr>\n",
       "      <th>19153</th>\n",
       "      <td>7386</td>\n",
       "      <td>city_173</td>\n",
       "      <td>0.878</td>\n",
       "      <td>Male</td>\n",
       "      <td>No relevent experience</td>\n",
       "      <td>no_enrollment</td>\n",
       "      <td>Graduate</td>\n",
       "      <td>Humanities</td>\n",
       "      <td>14</td>\n",
       "      <td>NaN</td>\n",
       "      <td>NaN</td>\n",
       "      <td>1</td>\n",
       "      <td>42</td>\n",
       "      <td>1.0</td>\n",
       "    </tr>\n",
       "    <tr>\n",
       "      <th>19154</th>\n",
       "      <td>31398</td>\n",
       "      <td>city_103</td>\n",
       "      <td>0.920</td>\n",
       "      <td>Male</td>\n",
       "      <td>Has relevent experience</td>\n",
       "      <td>no_enrollment</td>\n",
       "      <td>Graduate</td>\n",
       "      <td>STEM</td>\n",
       "      <td>14</td>\n",
       "      <td>NaN</td>\n",
       "      <td>NaN</td>\n",
       "      <td>4</td>\n",
       "      <td>52</td>\n",
       "      <td>1.0</td>\n",
       "    </tr>\n",
       "    <tr>\n",
       "      <th>19155</th>\n",
       "      <td>24576</td>\n",
       "      <td>city_103</td>\n",
       "      <td>0.920</td>\n",
       "      <td>Male</td>\n",
       "      <td>Has relevent experience</td>\n",
       "      <td>no_enrollment</td>\n",
       "      <td>Graduate</td>\n",
       "      <td>STEM</td>\n",
       "      <td>&gt;20</td>\n",
       "      <td>50-99</td>\n",
       "      <td>Pvt Ltd</td>\n",
       "      <td>4</td>\n",
       "      <td>44</td>\n",
       "      <td>0.0</td>\n",
       "    </tr>\n",
       "    <tr>\n",
       "      <th>19156</th>\n",
       "      <td>5756</td>\n",
       "      <td>city_65</td>\n",
       "      <td>0.802</td>\n",
       "      <td>Male</td>\n",
       "      <td>Has relevent experience</td>\n",
       "      <td>no_enrollment</td>\n",
       "      <td>High School</td>\n",
       "      <td>NaN</td>\n",
       "      <td>&lt;1</td>\n",
       "      <td>500-999</td>\n",
       "      <td>Pvt Ltd</td>\n",
       "      <td>2</td>\n",
       "      <td>97</td>\n",
       "      <td>0.0</td>\n",
       "    </tr>\n",
       "    <tr>\n",
       "      <th>19157</th>\n",
       "      <td>23834</td>\n",
       "      <td>city_67</td>\n",
       "      <td>0.855</td>\n",
       "      <td>NaN</td>\n",
       "      <td>No relevent experience</td>\n",
       "      <td>no_enrollment</td>\n",
       "      <td>Primary School</td>\n",
       "      <td>NaN</td>\n",
       "      <td>2</td>\n",
       "      <td>NaN</td>\n",
       "      <td>NaN</td>\n",
       "      <td>1</td>\n",
       "      <td>127</td>\n",
       "      <td>0.0</td>\n",
       "    </tr>\n",
       "  </tbody>\n",
       "</table>\n",
       "<p>19158 rows × 14 columns</p>\n",
       "</div>"
      ],
      "text/plain": [
       "       enrollee_id      city  city_development_index gender  \\\n",
       "0             8949  city_103                   0.920   Male   \n",
       "1            29725   city_40                   0.776   Male   \n",
       "2            11561   city_21                   0.624    NaN   \n",
       "3            33241  city_115                   0.789    NaN   \n",
       "4              666  city_162                   0.767   Male   \n",
       "...            ...       ...                     ...    ...   \n",
       "19153         7386  city_173                   0.878   Male   \n",
       "19154        31398  city_103                   0.920   Male   \n",
       "19155        24576  city_103                   0.920   Male   \n",
       "19156         5756   city_65                   0.802   Male   \n",
       "19157        23834   city_67                   0.855    NaN   \n",
       "\n",
       "           relevent_experience enrolled_university education_level  \\\n",
       "0      Has relevent experience       no_enrollment        Graduate   \n",
       "1       No relevent experience       no_enrollment        Graduate   \n",
       "2       No relevent experience    Full time course        Graduate   \n",
       "3       No relevent experience                 NaN        Graduate   \n",
       "4      Has relevent experience       no_enrollment         Masters   \n",
       "...                        ...                 ...             ...   \n",
       "19153   No relevent experience       no_enrollment        Graduate   \n",
       "19154  Has relevent experience       no_enrollment        Graduate   \n",
       "19155  Has relevent experience       no_enrollment        Graduate   \n",
       "19156  Has relevent experience       no_enrollment     High School   \n",
       "19157   No relevent experience       no_enrollment  Primary School   \n",
       "\n",
       "      major_discipline experience company_size    company_type last_new_job  \\\n",
       "0                 STEM        >20          NaN             NaN            1   \n",
       "1                 STEM         15        50-99         Pvt Ltd           >4   \n",
       "2                 STEM          5          NaN             NaN        never   \n",
       "3      Business Degree         <1          NaN         Pvt Ltd        never   \n",
       "4                 STEM        >20        50-99  Funded Startup            4   \n",
       "...                ...        ...          ...             ...          ...   \n",
       "19153       Humanities         14          NaN             NaN            1   \n",
       "19154             STEM         14          NaN             NaN            4   \n",
       "19155             STEM        >20        50-99         Pvt Ltd            4   \n",
       "19156              NaN         <1      500-999         Pvt Ltd            2   \n",
       "19157              NaN          2          NaN             NaN            1   \n",
       "\n",
       "       training_hours  target  \n",
       "0                  36     1.0  \n",
       "1                  47     0.0  \n",
       "2                  83     0.0  \n",
       "3                  52     1.0  \n",
       "4                   8     0.0  \n",
       "...               ...     ...  \n",
       "19153              42     1.0  \n",
       "19154              52     1.0  \n",
       "19155              44     0.0  \n",
       "19156              97     0.0  \n",
       "19157             127     0.0  \n",
       "\n",
       "[19158 rows x 14 columns]"
      ]
     },
     "execution_count": 27,
     "metadata": {},
     "output_type": "execute_result"
    }
   ],
   "source": [
    "df = pd.read_csv(r'dataset/hr-analytic.csv')\n",
    "df"
   ]
  },
  {
   "cell_type": "markdown",
   "id": "breathing-performer",
   "metadata": {},
   "source": [
    "# Feature Explanation\n",
    "\n",
    "    enrollee_id : Unique ID for candidate\n",
    "    city: City code\n",
    "    city_ development _index : Developement index of the city (scaled)\n",
    "    gender: Gender of candidate\n",
    "    relevent_experience: Relevant experience of candidate\n",
    "    enrolled_university: Type of University course enrolled if any\n",
    "    education_level: Education level of candidate\n",
    "    major_discipline :Education major discipline of candidate\n",
    "    experience: Candidate total experience in years\n",
    "    company_size: No of employees in current employer's company\n",
    "    company_type : Type of current employer\n",
    "    lastnewjob: Difference in years between previous job and current job\n",
    "    training_hours: training hours completed\n",
    "    target: 0 – Not looking for job change, 1 – Looking for a job change"
   ]
  },
  {
   "cell_type": "markdown",
   "id": "technological-showcase",
   "metadata": {},
   "source": [
    "# Checking for NaN Values"
   ]
  },
  {
   "cell_type": "code",
   "execution_count": 28,
   "id": "atlantic-hotel",
   "metadata": {},
   "outputs": [
    {
     "data": {
      "text/plain": [
       "enrollee_id                0.00\n",
       "city                       0.00\n",
       "city_development_index     0.00\n",
       "gender                    23.53\n",
       "relevent_experience        0.00\n",
       "enrolled_university        2.01\n",
       "education_level            2.40\n",
       "major_discipline          14.68\n",
       "experience                 0.34\n",
       "company_size              30.99\n",
       "company_type              32.05\n",
       "last_new_job               2.21\n",
       "training_hours             0.00\n",
       "target                     0.00\n",
       "dtype: float64"
      ]
     },
     "execution_count": 28,
     "metadata": {},
     "output_type": "execute_result"
    }
   ],
   "source": [
    "round(df.isna().sum()/len(df)*100, 2)"
   ]
  },
  {
   "cell_type": "code",
   "execution_count": 29,
   "id": "heavy-lincoln",
   "metadata": {},
   "outputs": [
    {
     "data": {
      "text/plain": [
       "array([nan, 'Pvt Ltd', 'Funded Startup', 'Early Stage Startup', 'Other',\n",
       "       'Public Sector', 'NGO'], dtype=object)"
      ]
     },
     "execution_count": 29,
     "metadata": {},
     "output_type": "execute_result"
    }
   ],
   "source": [
    "df['company_type'].unique()"
   ]
  },
  {
   "cell_type": "markdown",
   "id": "hydraulic-editing",
   "metadata": {},
   "source": [
    "The amount of NaN Values in Company size and Company type Columns is too high and I was planning on dropping it BUT according to some theory :\n",
    "    \n",
    "    Theoretically, 25 to 30% is the missing values range to be considered for imputation, beyond \n",
    "    which we might want to drop the variable from analysis.\n",
    "    \n",
    "    If the information contained in the variable is significant , we can consider imputation \n",
    "    upto 50% missing values.\n",
    "    \n",
    "    If the missing values are 90% which is way to high for imputation but is still important, \n",
    "    you can look for additional information for imputation. Some techniques that can be useful \n",
    "    are identifying relevant datasets to derive missing values.\n",
    "    \n",
    "But this is job changing we are talking about, though company size usually isn't the main reason people change job (I never heard of a reason where people change job because there's too many people, but company type is (Some people prefer working in Startups after a long time working Public Sector and so on). \n",
    "\n",
    "And so, because there's a \"Other\" variables in company_type(I will do the same for the other columns that contains NaNs and happen to be a categorical column), I will be replacing all of the NaNs with that. As for company_size, I will drop it."
   ]
  },
  {
   "cell_type": "code",
   "execution_count": 30,
   "id": "boolean-clearance",
   "metadata": {},
   "outputs": [],
   "source": [
    "df.drop(['company_size'], axis = 1, inplace = True)"
   ]
  },
  {
   "cell_type": "code",
   "execution_count": 31,
   "id": "professional-jesus",
   "metadata": {},
   "outputs": [
    {
     "data": {
      "text/html": [
       "<div>\n",
       "<style scoped>\n",
       "    .dataframe tbody tr th:only-of-type {\n",
       "        vertical-align: middle;\n",
       "    }\n",
       "\n",
       "    .dataframe tbody tr th {\n",
       "        vertical-align: top;\n",
       "    }\n",
       "\n",
       "    .dataframe thead th {\n",
       "        text-align: right;\n",
       "    }\n",
       "</style>\n",
       "<table border=\"1\" class=\"dataframe\">\n",
       "  <thead>\n",
       "    <tr style=\"text-align: right;\">\n",
       "      <th></th>\n",
       "      <th>gender</th>\n",
       "      <th>company_type</th>\n",
       "      <th>enrolled_university</th>\n",
       "      <th>education_level</th>\n",
       "      <th>major_discipline</th>\n",
       "    </tr>\n",
       "  </thead>\n",
       "  <tbody>\n",
       "    <tr>\n",
       "      <th>0</th>\n",
       "      <td>Male</td>\n",
       "      <td>NaN</td>\n",
       "      <td>no_enrollment</td>\n",
       "      <td>Graduate</td>\n",
       "      <td>STEM</td>\n",
       "    </tr>\n",
       "    <tr>\n",
       "      <th>1</th>\n",
       "      <td>Male</td>\n",
       "      <td>Pvt Ltd</td>\n",
       "      <td>no_enrollment</td>\n",
       "      <td>Graduate</td>\n",
       "      <td>STEM</td>\n",
       "    </tr>\n",
       "    <tr>\n",
       "      <th>2</th>\n",
       "      <td>NaN</td>\n",
       "      <td>NaN</td>\n",
       "      <td>Full time course</td>\n",
       "      <td>Graduate</td>\n",
       "      <td>STEM</td>\n",
       "    </tr>\n",
       "    <tr>\n",
       "      <th>3</th>\n",
       "      <td>NaN</td>\n",
       "      <td>Pvt Ltd</td>\n",
       "      <td>NaN</td>\n",
       "      <td>Graduate</td>\n",
       "      <td>Business Degree</td>\n",
       "    </tr>\n",
       "    <tr>\n",
       "      <th>4</th>\n",
       "      <td>Male</td>\n",
       "      <td>Funded Startup</td>\n",
       "      <td>no_enrollment</td>\n",
       "      <td>Masters</td>\n",
       "      <td>STEM</td>\n",
       "    </tr>\n",
       "    <tr>\n",
       "      <th>...</th>\n",
       "      <td>...</td>\n",
       "      <td>...</td>\n",
       "      <td>...</td>\n",
       "      <td>...</td>\n",
       "      <td>...</td>\n",
       "    </tr>\n",
       "    <tr>\n",
       "      <th>19153</th>\n",
       "      <td>Male</td>\n",
       "      <td>NaN</td>\n",
       "      <td>no_enrollment</td>\n",
       "      <td>Graduate</td>\n",
       "      <td>Humanities</td>\n",
       "    </tr>\n",
       "    <tr>\n",
       "      <th>19154</th>\n",
       "      <td>Male</td>\n",
       "      <td>NaN</td>\n",
       "      <td>no_enrollment</td>\n",
       "      <td>Graduate</td>\n",
       "      <td>STEM</td>\n",
       "    </tr>\n",
       "    <tr>\n",
       "      <th>19155</th>\n",
       "      <td>Male</td>\n",
       "      <td>Pvt Ltd</td>\n",
       "      <td>no_enrollment</td>\n",
       "      <td>Graduate</td>\n",
       "      <td>STEM</td>\n",
       "    </tr>\n",
       "    <tr>\n",
       "      <th>19156</th>\n",
       "      <td>Male</td>\n",
       "      <td>Pvt Ltd</td>\n",
       "      <td>no_enrollment</td>\n",
       "      <td>High School</td>\n",
       "      <td>NaN</td>\n",
       "    </tr>\n",
       "    <tr>\n",
       "      <th>19157</th>\n",
       "      <td>NaN</td>\n",
       "      <td>NaN</td>\n",
       "      <td>no_enrollment</td>\n",
       "      <td>Primary School</td>\n",
       "      <td>NaN</td>\n",
       "    </tr>\n",
       "  </tbody>\n",
       "</table>\n",
       "<p>19158 rows × 5 columns</p>\n",
       "</div>"
      ],
      "text/plain": [
       "      gender    company_type enrolled_university education_level  \\\n",
       "0       Male             NaN       no_enrollment        Graduate   \n",
       "1       Male         Pvt Ltd       no_enrollment        Graduate   \n",
       "2        NaN             NaN    Full time course        Graduate   \n",
       "3        NaN         Pvt Ltd                 NaN        Graduate   \n",
       "4       Male  Funded Startup       no_enrollment         Masters   \n",
       "...      ...             ...                 ...             ...   \n",
       "19153   Male             NaN       no_enrollment        Graduate   \n",
       "19154   Male             NaN       no_enrollment        Graduate   \n",
       "19155   Male         Pvt Ltd       no_enrollment        Graduate   \n",
       "19156   Male         Pvt Ltd       no_enrollment     High School   \n",
       "19157    NaN             NaN       no_enrollment  Primary School   \n",
       "\n",
       "      major_discipline  \n",
       "0                 STEM  \n",
       "1                 STEM  \n",
       "2                 STEM  \n",
       "3      Business Degree  \n",
       "4                 STEM  \n",
       "...                ...  \n",
       "19153       Humanities  \n",
       "19154             STEM  \n",
       "19155             STEM  \n",
       "19156              NaN  \n",
       "19157              NaN  \n",
       "\n",
       "[19158 rows x 5 columns]"
      ]
     },
     "execution_count": 31,
     "metadata": {},
     "output_type": "execute_result"
    }
   ],
   "source": [
    "df[['gender','company_type','enrolled_university','education_level','major_discipline']]"
   ]
  },
  {
   "cell_type": "code",
   "execution_count": 32,
   "id": "private-endorsement",
   "metadata": {},
   "outputs": [],
   "source": [
    "df[['gender','company_type','enrolled_university','education_level','major_discipline']] = df[['gender','company_type','enrolled_university','education_level','major_discipline']].replace(np.nan, 'Other')"
   ]
  },
  {
   "cell_type": "markdown",
   "id": "automated-course",
   "metadata": {},
   "source": [
    "As for \"experience\" and \"last new job\", I will fill it with Mode"
   ]
  },
  {
   "cell_type": "code",
   "execution_count": 8,
   "id": "matched-canyon",
   "metadata": {},
   "outputs": [],
   "source": [
    "df['experience'] = df['experience'].replace(np.nan, '>20')"
   ]
  },
  {
   "cell_type": "code",
   "execution_count": 34,
   "id": "revolutionary-earth",
   "metadata": {},
   "outputs": [],
   "source": [
    "df['last_new_job'] = df['last_new_job'].replace(np.nan, '1')"
   ]
  },
  {
   "cell_type": "code",
   "execution_count": 12,
   "id": "respective-iraqi",
   "metadata": {},
   "outputs": [
    {
     "data": {
      "text/plain": [
       "enrollee_id               0\n",
       "city                      0\n",
       "city_development_index    0\n",
       "gender                    0\n",
       "relevent_experience       0\n",
       "enrolled_university       0\n",
       "education_level           0\n",
       "major_discipline          0\n",
       "experience                0\n",
       "company_type              0\n",
       "last_new_job              0\n",
       "training_hours            0\n",
       "target                    0\n",
       "dtype: int64"
      ]
     },
     "execution_count": 12,
     "metadata": {},
     "output_type": "execute_result"
    }
   ],
   "source": [
    "df.isna().sum()"
   ]
  },
  {
   "cell_type": "markdown",
   "id": "compressed-darkness",
   "metadata": {},
   "source": [
    "I found an article : https://www.thebalancecareers.com/how-often-do-people-change-jobs-2060467, where they did some research on kinds of things that might affect ones decision on changing jobs and those are : \n",
    "\n",
    "    Job Changes by Gender\n",
    "        Remarkably, the BLS survey revealed that women held almost as many jobs as men \n",
    "        throughout their careers, despite taking more time out of their careers for child-rearing \n",
    "        activities. On average, men held 12.5 jobs, and women held 12.1 jobs.\n",
    "        \n",
    "    Job Changes by Age\n",
    "        A worker's age impacted the number of jobs that they held in any period. \n",
    "        Workers held an average of 5.7 jobs during the six-year period when they \n",
    "        were 18 to 24 years old. However, the number of jobs held declined with age.\n",
    "\n",
    "        Workers had an average of 4.5 jobs when they were 25 to 34 years old, and 2.9 jobs \n",
    "        when they were 35 to 44 years old. During the most established phase of many workers' \n",
    "        careers, ages 45 to 52, they held only an average of 1.9 jobs.\n",
    "        \n",
    "    Job Changes by Race\n",
    "        From age 18 to age 24, Whites made more job changes than Blacks or Latinos. \n",
    "        Whites held 5.9 jobs between the ages of 18 and 24, while Blacks held 4.8 jobs, \n",
    "        and Latinos held 5.1 jobs.\n",
    "\n",
    "        There were only minor differences in later age ranges among the different groups. \n",
    "        Whites, Blacks, and Latinos held between 4.3 and 4.6 jobs from age 25 to age 34, \n",
    "        and between 2.9 and 3.1 jobs from age 35 to age 44. From age 45 to age 52, \n",
    "        all three groups held an average of 1.9 jobs.1\n",
    "        \n",
    "    Average Duration of Jobs\n",
    "        The BLS Employee Tenure Summary notes that a high percentage of younger \n",
    "        workers had short-duration jobs as of January 2018. Among jobs held by workers \n",
    "        ages 25 to 34, the median tenure is 2.8 years.\n",
    "\n",
    "        From ages 35 to 44, the median job duration was 4.9 years, and from 45 to 54, \n",
    "        the median tenure at a job was 7.6 years. Median tenure rose to 10.1 years \n",
    "        for workers aged 55 to 64.\n",
    "\n",
    "        The job sectors with the highest median tenure include management, engineering, \n",
    "        legal, and education. Workers in service occupations had the lowest median tenure.\n",
    "        \n",
    "Reasons for Changing Jobs\n",
    "Some examples of the common reasons that workers change jobs include:\n",
    "\n",
    "    Seeking higher pay\n",
    "    Better benefits and perks\n",
    "    Relocation to a different geographic area\n",
    "    Career advancement\n",
    "    Choosing a less stressful job\n",
    "    Escaping an incompetent or negative boss\n",
    "    Changing career focus\n",
    "    Better work-life balance\n",
    "    Reorganization at their company\n",
    "    Layoff due to duplication of their job resulting from a merger or acquisition\n",
    "    More interesting work\n",
    "    Better work schedule\n",
    "    Skills and abilities didn't fit the job\n",
    "    Lack of recognition for accomplishments\n",
    "    Outsourcing of job function\n",
    "    Company moved to a new location\n",
    "    Better alignment between personal values and organizational priorities"
   ]
  },
  {
   "cell_type": "markdown",
   "id": "binding-latex",
   "metadata": {},
   "source": [
    "# Gender"
   ]
  },
  {
   "cell_type": "code",
   "execution_count": 36,
   "id": "removable-renewal",
   "metadata": {},
   "outputs": [
    {
     "data": {
      "text/plain": [
       "Male      13221\n",
       "Other      4699\n",
       "Female     1238\n",
       "Name: gender, dtype: int64"
      ]
     },
     "execution_count": 36,
     "metadata": {},
     "output_type": "execute_result"
    }
   ],
   "source": [
    "df['gender'].value_counts()"
   ]
  },
  {
   "cell_type": "code",
   "execution_count": 92,
   "id": "affected-immune",
   "metadata": {},
   "outputs": [
    {
     "data": {
      "text/html": [
       "<div>\n",
       "<style scoped>\n",
       "    .dataframe tbody tr th:only-of-type {\n",
       "        vertical-align: middle;\n",
       "    }\n",
       "\n",
       "    .dataframe tbody tr th {\n",
       "        vertical-align: top;\n",
       "    }\n",
       "\n",
       "    .dataframe thead th {\n",
       "        text-align: right;\n",
       "    }\n",
       "</style>\n",
       "<table border=\"1\" class=\"dataframe\">\n",
       "  <thead>\n",
       "    <tr style=\"text-align: right;\">\n",
       "      <th></th>\n",
       "      <th>Change</th>\n",
       "    </tr>\n",
       "    <tr>\n",
       "      <th>gender</th>\n",
       "      <th></th>\n",
       "    </tr>\n",
       "  </thead>\n",
       "  <tbody>\n",
       "    <tr>\n",
       "      <th>Male</th>\n",
       "      <td>3012</td>\n",
       "    </tr>\n",
       "    <tr>\n",
       "      <th>Other</th>\n",
       "      <td>1439</td>\n",
       "    </tr>\n",
       "    <tr>\n",
       "      <th>Female</th>\n",
       "      <td>326</td>\n",
       "    </tr>\n",
       "  </tbody>\n",
       "</table>\n",
       "</div>"
      ],
      "text/plain": [
       "        Change\n",
       "gender        \n",
       "Male      3012\n",
       "Other     1439\n",
       "Female     326"
      ]
     },
     "execution_count": 92,
     "metadata": {},
     "output_type": "execute_result"
    }
   ],
   "source": [
    "change_by_gender = pd.DataFrame(df[df['target'] == 1][['gender']].value_counts()).reset_index().rename(columns = {0 : 'Change'}).set_index('gender')\n",
    "change_by_gender"
   ]
  },
  {
   "cell_type": "code",
   "execution_count": 93,
   "id": "blond-rhythm",
   "metadata": {},
   "outputs": [
    {
     "data": {
      "text/html": [
       "<div>\n",
       "<style scoped>\n",
       "    .dataframe tbody tr th:only-of-type {\n",
       "        vertical-align: middle;\n",
       "    }\n",
       "\n",
       "    .dataframe tbody tr th {\n",
       "        vertical-align: top;\n",
       "    }\n",
       "\n",
       "    .dataframe thead th {\n",
       "        text-align: right;\n",
       "    }\n",
       "</style>\n",
       "<table border=\"1\" class=\"dataframe\">\n",
       "  <thead>\n",
       "    <tr style=\"text-align: right;\">\n",
       "      <th></th>\n",
       "      <th>Stay</th>\n",
       "    </tr>\n",
       "    <tr>\n",
       "      <th>gender</th>\n",
       "      <th></th>\n",
       "    </tr>\n",
       "  </thead>\n",
       "  <tbody>\n",
       "    <tr>\n",
       "      <th>Male</th>\n",
       "      <td>10209</td>\n",
       "    </tr>\n",
       "    <tr>\n",
       "      <th>Other</th>\n",
       "      <td>3260</td>\n",
       "    </tr>\n",
       "    <tr>\n",
       "      <th>Female</th>\n",
       "      <td>912</td>\n",
       "    </tr>\n",
       "  </tbody>\n",
       "</table>\n",
       "</div>"
      ],
      "text/plain": [
       "         Stay\n",
       "gender       \n",
       "Male    10209\n",
       "Other    3260\n",
       "Female    912"
      ]
     },
     "execution_count": 93,
     "metadata": {},
     "output_type": "execute_result"
    }
   ],
   "source": [
    "stay_by_gender = pd.DataFrame(df[df['target'] == 0][['gender']].value_counts()).reset_index().rename(columns = {0 : 'Stay'}).set_index('gender')\n",
    "change_by_gender\n",
    "stay_by_gender"
   ]
  },
  {
   "cell_type": "code",
   "execution_count": 117,
   "id": "historic-negotiation",
   "metadata": {},
   "outputs": [],
   "source": [
    "comparion_by_gender = pd.concat([change_by_gender, stay_by_gender], axis = 1)"
   ]
  },
  {
   "cell_type": "code",
   "execution_count": 118,
   "id": "undefined-benchmark",
   "metadata": {},
   "outputs": [
    {
     "data": {
      "text/html": [
       "<div>\n",
       "<style scoped>\n",
       "    .dataframe tbody tr th:only-of-type {\n",
       "        vertical-align: middle;\n",
       "    }\n",
       "\n",
       "    .dataframe tbody tr th {\n",
       "        vertical-align: top;\n",
       "    }\n",
       "\n",
       "    .dataframe thead th {\n",
       "        text-align: right;\n",
       "    }\n",
       "</style>\n",
       "<table border=\"1\" class=\"dataframe\">\n",
       "  <thead>\n",
       "    <tr style=\"text-align: right;\">\n",
       "      <th>gender</th>\n",
       "      <th>Male</th>\n",
       "      <th>Other</th>\n",
       "      <th>Female</th>\n",
       "    </tr>\n",
       "  </thead>\n",
       "  <tbody>\n",
       "    <tr>\n",
       "      <th>Change</th>\n",
       "      <td>3012</td>\n",
       "      <td>1439</td>\n",
       "      <td>326</td>\n",
       "    </tr>\n",
       "    <tr>\n",
       "      <th>Stay</th>\n",
       "      <td>10209</td>\n",
       "      <td>3260</td>\n",
       "      <td>912</td>\n",
       "    </tr>\n",
       "  </tbody>\n",
       "</table>\n",
       "</div>"
      ],
      "text/plain": [
       "gender   Male  Other  Female\n",
       "Change   3012   1439     326\n",
       "Stay    10209   3260     912"
      ]
     },
     "execution_count": 118,
     "metadata": {},
     "output_type": "execute_result"
    }
   ],
   "source": [
    "comparion_by_gender = comparion_by_gender.T\n",
    "comparion_by_gender"
   ]
  },
  {
   "cell_type": "code",
   "execution_count": 119,
   "id": "electoral-accused",
   "metadata": {},
   "outputs": [
    {
     "data": {
      "text/plain": [
       "Change    22.781938\n",
       "Stay      77.218062\n",
       "Name: Male, dtype: float64"
      ]
     },
     "execution_count": 119,
     "metadata": {},
     "output_type": "execute_result"
    }
   ],
   "source": [
    "comparion_by_gender['Male']/comparion_by_gender['Male'].sum() * 100"
   ]
  },
  {
   "cell_type": "code",
   "execution_count": 121,
   "id": "retained-germany",
   "metadata": {},
   "outputs": [
    {
     "data": {
      "text/plain": [
       "Change    30.623537\n",
       "Stay      69.376463\n",
       "Name: Other, dtype: float64"
      ]
     },
     "execution_count": 121,
     "metadata": {},
     "output_type": "execute_result"
    }
   ],
   "source": [
    "comparion_by_gender['Other']/comparion_by_gender['Other'].sum() * 100"
   ]
  },
  {
   "cell_type": "code",
   "execution_count": 120,
   "id": "extensive-digit",
   "metadata": {},
   "outputs": [
    {
     "data": {
      "text/plain": [
       "Change    26.332795\n",
       "Stay      73.667205\n",
       "Name: Female, dtype: float64"
      ]
     },
     "execution_count": 120,
     "metadata": {},
     "output_type": "execute_result"
    }
   ],
   "source": [
    "comparion_by_gender['Female']/comparion_by_gender['Female'].sum() * 100"
   ]
  },
  {
   "cell_type": "markdown",
   "id": "understood-legend",
   "metadata": {},
   "source": [
    "According to data, ignoring the other aside, Females are prone to changing job than males eventhough the difference isn't that much, just by around 4% difference"
   ]
  },
  {
   "cell_type": "code",
   "execution_count": 132,
   "id": "fleet-rates",
   "metadata": {},
   "outputs": [
    {
     "data": {
      "text/plain": [
       "<AxesSubplot:xlabel='gender', ylabel='count'>"
      ]
     },
     "execution_count": 132,
     "metadata": {},
     "output_type": "execute_result"
    },
    {
     "data": {
      "image/png": "[encoded data removed]",
      "text/plain": [
       "<Figure size 576x504 with 1 Axes>"
      ]
     },
     "metadata": {},
     "output_type": "display_data"
    }
   ],
   "source": [
    "sns.countplot(x = df['gender'], hue = df['target'])"
   ]
  },
  {
   "cell_type": "markdown",
   "id": "eligible-equivalent",
   "metadata": {},
   "source": [
    "# Experience \n",
    "\n",
    "    Experience might play a major role when it comes to deciding wether they will change job or not, \n",
    "    because it is related with age"
   ]
  },
  {
   "cell_type": "code",
   "execution_count": 198,
   "id": "lined-christianity",
   "metadata": {},
   "outputs": [
    {
     "data": {
      "image/png": "[encoded data removed]",
      "text/plain": [
       "<Figure size 710.86x720 with 1 Axes>"
      ]
     },
     "metadata": {},
     "output_type": "display_data"
    }
   ],
   "source": [
    "testing = sns.catplot(x=\"experience\", hue = 'target',\n",
    "                data=df, kind=\"count\",\n",
    "                height=10, aspect=.9, order = df['experience'].value_counts().index)"
   ]
  },
  {
   "cell_type": "markdown",
   "id": "sized-queensland",
   "metadata": {},
   "source": [
    "From this graph, we can see the difference between who stays and who intend to change job looking by experience. People who has 1 or less experience, tends to change jobs more than people who has more than 1 year experience.  So as their experience increases, the less they want to change their jobs (might be because of age)"
   ]
  },
  {
   "cell_type": "code",
   "execution_count": null,
   "id": "outstanding-auction",
   "metadata": {},
   "outputs": [],
   "source": []
  }
 ],
 "metadata": {
  "kernelspec": {
   "display_name": "Python 3",
   "language": "python",
   "name": "python3"
  },
  "language_info": {
   "codemirror_mode": {
    "name": "ipython",
    "version": 3
   },
   "file_extension": ".py",
   "mimetype": "text/x-python",
   "name": "python",
   "nbconvert_exporter": "python",
   "pygments_lexer": "ipython3",
   "version": "3.7.9"
  }
 },
 "nbformat": 4,
 "nbformat_minor": 5
}
